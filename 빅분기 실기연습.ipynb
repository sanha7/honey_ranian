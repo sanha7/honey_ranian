{
  "nbformat": 4,
  "nbformat_minor": 0,
  "metadata": {
    "colab": {
      "provenance": [],
      "collapsed_sections": [],
      "authorship_tag": "ABX9TyNaiVam0+WNkC+2NpexPbL8",
      "include_colab_link": true
    },
    "kernelspec": {
      "name": "python3",
      "display_name": "Python 3"
    },
    "language_info": {
      "name": "python"
    }
  },
  "cells": [
    {
      "cell_type": "markdown",
      "metadata": {
        "id": "view-in-github",
        "colab_type": "text"
      },
      "source": [
        "<a href=\"https://colab.research.google.com/github/sanha7/honey_ranian/blob/main/%EB%B9%85%EB%B6%84%EA%B8%B0%20%EC%8B%A4%EA%B8%B0%EC%97%B0%EC%8A%B5.ipynb\" target=\"_parent\"><img src=\"https://colab.research.google.com/assets/colab-badge.svg\" alt=\"Open In Colab\"/></a>"
      ]
    },
    {
      "cell_type": "code",
      "execution_count": null,
      "metadata": {
        "colab": {
          "base_uri": "https://localhost:8080/"
        },
        "id": "-jVfjHyUs5_2",
        "outputId": "d746a69f-a430-4f67-a35a-6462ec83cf83"
      },
      "outputs": [
        {
          "output_type": "stream",
          "name": "stdout",
          "text": [
            "          Unnamed: 0   mpg  cyl   disp   hp  drat     wt   qsec  vs      am  \\\n",
            "0          Mazda RX4  21.0  6.0  160.0  110  3.90  2.620  16.46   0  manual   \n",
            "1      Mazda RX4 Wag  21.0  6.0  160.0  110  3.90  2.875  17.02   0  manual   \n",
            "2         Datsun 710  22.8  4.0  108.0   93  3.85  2.320  18.61   1  manual   \n",
            "3     Hornet 4 Drive  21.4  6.0  258.0  110  3.08  3.215   0.10   1    auto   \n",
            "4  Hornet Sportabout  18.7  8.0  360.0  175  3.15  3.440  17.02   0    auto   \n",
            "\n",
            "  gear  carb  \n",
            "0    4     4  \n",
            "1    4     4  \n",
            "2    4     1  \n",
            "3    3     1  \n",
            "4    3     2  \n"
          ]
        }
      ],
      "source": [
        "import pandas as pd\n",
        "data = pd.read_csv('mtcars.csv')\n",
        "print(data.head())"
      ]
    },
    {
      "cell_type": "code",
      "source": [
        "print(data.shape)"
      ],
      "metadata": {
        "colab": {
          "base_uri": "https://localhost:8080/"
        },
        "id": "jMsJx5Lus8zn",
        "outputId": "3c9fa625-a725-499b-cdaa-c5add991a462"
      },
      "execution_count": null,
      "outputs": [
        {
          "output_type": "stream",
          "name": "stdout",
          "text": [
            "(32, 12)\n"
          ]
        }
      ]
    },
    {
      "cell_type": "code",
      "source": [
        "print(type(data))"
      ],
      "metadata": {
        "colab": {
          "base_uri": "https://localhost:8080/"
        },
        "id": "Se-hxPVLs82N",
        "outputId": "714ae2b6-9f53-4d20-ec35-b6957afb6868"
      },
      "execution_count": null,
      "outputs": [
        {
          "output_type": "stream",
          "name": "stdout",
          "text": [
            "<class 'pandas.core.frame.DataFrame'>\n"
          ]
        }
      ]
    },
    {
      "cell_type": "code",
      "source": [
        "print(data.columns)"
      ],
      "metadata": {
        "colab": {
          "base_uri": "https://localhost:8080/"
        },
        "id": "Fh8RY1ZP2pdM",
        "outputId": "2101c929-c504-4ab5-eaff-c1c9f7b90a98"
      },
      "execution_count": null,
      "outputs": [
        {
          "output_type": "stream",
          "name": "stdout",
          "text": [
            "Index(['Unnamed: 0', 'mpg', 'cyl', 'disp', 'hp', 'drat', 'wt', 'qsec', 'vs',\n",
            "       'am', 'gear', 'carb'],\n",
            "      dtype='object')\n"
          ]
        }
      ]
    },
    {
      "cell_type": "code",
      "source": [
        "print(data.describe())"
      ],
      "metadata": {
        "colab": {
          "base_uri": "https://localhost:8080/"
        },
        "id": "yy3rIBOZ2pfr",
        "outputId": "821852cc-c3d8-4079-aa88-30c0ba446d7d"
      },
      "execution_count": null,
      "outputs": [
        {
          "output_type": "stream",
          "name": "stdout",
          "text": [
            "             mpg        cyl        disp          hp       drat         wt  \\\n",
            "count  32.000000  30.000000   32.000000   32.000000  32.000000  32.000000   \n",
            "mean   20.090625   7.600000  230.721875  146.687500   3.596563   3.217250   \n",
            "std     6.026948   8.194195  123.938694   68.562868   0.534679   0.978457   \n",
            "min    10.400000   4.000000   71.100000   52.000000   2.760000   1.513000   \n",
            "25%    15.425000   4.000000  120.825000   96.500000   3.080000   2.581250   \n",
            "50%    19.200000   6.000000  196.300000  123.000000   3.695000   3.325000   \n",
            "75%    22.800000   8.000000  326.000000  180.000000   3.920000   3.610000   \n",
            "max    33.900000  50.000000  472.000000  335.000000   4.930000   5.424000   \n",
            "\n",
            "             qsec         vs     carb  \n",
            "count   31.000000  32.000000  32.0000  \n",
            "mean    19.866774   0.437500   2.8125  \n",
            "std     15.310469   0.504016   1.6152  \n",
            "min      0.100000   0.000000   1.0000  \n",
            "25%     16.785000   0.000000   2.0000  \n",
            "50%     17.600000   0.000000   2.0000  \n",
            "75%     18.755000   1.000000   4.0000  \n",
            "max    100.000000   1.000000   8.0000  \n"
          ]
        }
      ]
    },
    {
      "cell_type": "code",
      "source": [
        "print(data['hp'].describe())"
      ],
      "metadata": {
        "colab": {
          "base_uri": "https://localhost:8080/"
        },
        "id": "7Ixq10z42ph8",
        "outputId": "d711bf21-0a0c-49d7-f3b4-8b158b2d1396"
      },
      "execution_count": null,
      "outputs": [
        {
          "output_type": "stream",
          "name": "stdout",
          "text": [
            "count     32.000000\n",
            "mean     146.687500\n",
            "std       68.562868\n",
            "min       52.000000\n",
            "25%       96.500000\n",
            "50%      123.000000\n",
            "75%      180.000000\n",
            "max      335.000000\n",
            "Name: hp, dtype: float64\n"
          ]
        }
      ]
    },
    {
      "cell_type": "code",
      "source": [
        "print(data['am'].unique())"
      ],
      "metadata": {
        "colab": {
          "base_uri": "https://localhost:8080/"
        },
        "id": "HSXvrIsis85l",
        "outputId": "16767c2c-a89d-4ba6-d93a-9a97a6670a1d"
      },
      "execution_count": null,
      "outputs": [
        {
          "output_type": "stream",
          "name": "stdout",
          "text": [
            "['manual' 'auto']\n"
          ]
        }
      ]
    },
    {
      "cell_type": "code",
      "source": [
        "print(data.info())"
      ],
      "metadata": {
        "colab": {
          "base_uri": "https://localhost:8080/"
        },
        "id": "-_9L_Ey-s89v",
        "outputId": "795f8404-b971-48e9-e82d-b4702eb904cd"
      },
      "execution_count": null,
      "outputs": [
        {
          "output_type": "stream",
          "name": "stdout",
          "text": [
            "<class 'pandas.core.frame.DataFrame'>\n",
            "RangeIndex: 32 entries, 0 to 31\n",
            "Data columns (total 12 columns):\n",
            " #   Column      Non-Null Count  Dtype  \n",
            "---  ------      --------------  -----  \n",
            " 0   Unnamed: 0  32 non-null     object \n",
            " 1   mpg         32 non-null     float64\n",
            " 2   cyl         30 non-null     float64\n",
            " 3   disp        32 non-null     float64\n",
            " 4   hp          32 non-null     int64  \n",
            " 5   drat        32 non-null     float64\n",
            " 6   wt          32 non-null     float64\n",
            " 7   qsec        31 non-null     float64\n",
            " 8   vs          32 non-null     int64  \n",
            " 9   am          32 non-null     object \n",
            " 10  gear        32 non-null     object \n",
            " 11  carb        32 non-null     int64  \n",
            "dtypes: float64(6), int64(3), object(3)\n",
            "memory usage: 3.1+ KB\n",
            "None\n"
          ]
        }
      ]
    },
    {
      "cell_type": "code",
      "source": [
        "#독립변수/종속변수 분리하기\n",
        "X =data.drop(columns='mpg') #독립변수-mpg를제외한 요소들\n",
        "Y =data['mpg'] #mpg를 종속변수로"
      ],
      "metadata": {
        "id": "VOZ2fhjx7ouN"
      },
      "execution_count": null,
      "outputs": []
    },
    {
      "cell_type": "code",
      "source": [
        "print(X.head())"
      ],
      "metadata": {
        "colab": {
          "base_uri": "https://localhost:8080/"
        },
        "id": "Obu0mgx27owr",
        "outputId": "5b893df7-4788-40f0-f1d4-f7958f1d964f"
      },
      "execution_count": null,
      "outputs": [
        {
          "output_type": "stream",
          "name": "stdout",
          "text": [
            "          Unnamed: 0  cyl   disp   hp  drat     wt   qsec  vs      am gear  \\\n",
            "0          Mazda RX4  6.0  160.0  110  3.90  2.620  16.46   0  manual    4   \n",
            "1      Mazda RX4 Wag  6.0  160.0  110  3.90  2.875  17.02   0  manual    4   \n",
            "2         Datsun 710  4.0  108.0   93  3.85  2.320  18.61   1  manual    4   \n",
            "3     Hornet 4 Drive  6.0  258.0  110  3.08  3.215   0.10   1    auto    3   \n",
            "4  Hornet Sportabout  8.0  360.0  175  3.15  3.440  17.02   0    auto    3   \n",
            "\n",
            "   carb  \n",
            "0     4  \n",
            "1     4  \n",
            "2     1  \n",
            "3     1  \n",
            "4     2  \n"
          ]
        }
      ]
    },
    {
      "cell_type": "code",
      "source": [
        "print(Y.head())"
      ],
      "metadata": {
        "colab": {
          "base_uri": "https://localhost:8080/"
        },
        "id": "tKju6dy37o0c",
        "outputId": "12ef4ecd-2cce-40af-afd1-ea4baa5149c7"
      },
      "execution_count": null,
      "outputs": [
        {
          "output_type": "stream",
          "name": "stdout",
          "text": [
            "0    21.0\n",
            "1    21.0\n",
            "2    22.8\n",
            "3    21.4\n",
            "4    18.7\n",
            "Name: mpg, dtype: float64\n"
          ]
        }
      ]
    },
    {
      "cell_type": "code",
      "source": [
        "X= X.iloc[:, 1:] #불필요한 0번째열 제거해서 새 변수 생성"
      ],
      "metadata": {
        "id": "SjMvvAQCknkw"
      },
      "execution_count": null,
      "outputs": []
    },
    {
      "cell_type": "code",
      "source": [
        "print(X.head())"
      ],
      "metadata": {
        "id": "GGe2e_2lknm-",
        "colab": {
          "base_uri": "https://localhost:8080/"
        },
        "outputId": "7328fc43-0834-40c7-93b5-9868b7c4a50b"
      },
      "execution_count": null,
      "outputs": [
        {
          "output_type": "stream",
          "name": "stdout",
          "text": [
            "   cyl   disp   hp  drat     wt   qsec  vs      am gear  carb\n",
            "0  6.0  160.0  110  3.90  2.620  16.46   0  manual    4     4\n",
            "1  6.0  160.0  110  3.90  2.875  17.02   0  manual    4     4\n",
            "2  4.0  108.0   93  3.85  2.320  18.61   1  manual    4     1\n",
            "3  6.0  258.0  110  3.08  3.215   0.10   1    auto    3     1\n",
            "4  8.0  360.0  175  3.15  3.440  17.02   0    auto    3     2\n"
          ]
        }
      ]
    },
    {
      "cell_type": "code",
      "source": [
        "X.isnull().head(3)"
      ],
      "metadata": {
        "colab": {
          "base_uri": "https://localhost:8080/",
          "height": 143
        },
        "id": "-rEsxiToNSuk",
        "outputId": "6f6bcf0d-e7a9-457e-d3b6-0cd466b6fc15"
      },
      "execution_count": null,
      "outputs": [
        {
          "output_type": "execute_result",
          "data": {
            "text/plain": [
              "     cyl   disp     hp   drat     wt   qsec     vs     am   gear   carb\n",
              "0  False  False  False  False  False  False  False  False  False  False\n",
              "1  False  False  False  False  False  False  False  False  False  False\n",
              "2  False  False  False  False  False  False  False  False  False  False"
            ],
            "text/html": [
              "\n",
              "  <div id=\"df-fb41e78c-79e1-4e71-9cea-937e924f3b27\">\n",
              "    <div class=\"colab-df-container\">\n",
              "      <div>\n",
              "<style scoped>\n",
              "    .dataframe tbody tr th:only-of-type {\n",
              "        vertical-align: middle;\n",
              "    }\n",
              "\n",
              "    .dataframe tbody tr th {\n",
              "        vertical-align: top;\n",
              "    }\n",
              "\n",
              "    .dataframe thead th {\n",
              "        text-align: right;\n",
              "    }\n",
              "</style>\n",
              "<table border=\"1\" class=\"dataframe\">\n",
              "  <thead>\n",
              "    <tr style=\"text-align: right;\">\n",
              "      <th></th>\n",
              "      <th>cyl</th>\n",
              "      <th>disp</th>\n",
              "      <th>hp</th>\n",
              "      <th>drat</th>\n",
              "      <th>wt</th>\n",
              "      <th>qsec</th>\n",
              "      <th>vs</th>\n",
              "      <th>am</th>\n",
              "      <th>gear</th>\n",
              "      <th>carb</th>\n",
              "    </tr>\n",
              "  </thead>\n",
              "  <tbody>\n",
              "    <tr>\n",
              "      <th>0</th>\n",
              "      <td>False</td>\n",
              "      <td>False</td>\n",
              "      <td>False</td>\n",
              "      <td>False</td>\n",
              "      <td>False</td>\n",
              "      <td>False</td>\n",
              "      <td>False</td>\n",
              "      <td>False</td>\n",
              "      <td>False</td>\n",
              "      <td>False</td>\n",
              "    </tr>\n",
              "    <tr>\n",
              "      <th>1</th>\n",
              "      <td>False</td>\n",
              "      <td>False</td>\n",
              "      <td>False</td>\n",
              "      <td>False</td>\n",
              "      <td>False</td>\n",
              "      <td>False</td>\n",
              "      <td>False</td>\n",
              "      <td>False</td>\n",
              "      <td>False</td>\n",
              "      <td>False</td>\n",
              "    </tr>\n",
              "    <tr>\n",
              "      <th>2</th>\n",
              "      <td>False</td>\n",
              "      <td>False</td>\n",
              "      <td>False</td>\n",
              "      <td>False</td>\n",
              "      <td>False</td>\n",
              "      <td>False</td>\n",
              "      <td>False</td>\n",
              "      <td>False</td>\n",
              "      <td>False</td>\n",
              "      <td>False</td>\n",
              "    </tr>\n",
              "  </tbody>\n",
              "</table>\n",
              "</div>\n",
              "      <button class=\"colab-df-convert\" onclick=\"convertToInteractive('df-fb41e78c-79e1-4e71-9cea-937e924f3b27')\"\n",
              "              title=\"Convert this dataframe to an interactive table.\"\n",
              "              style=\"display:none;\">\n",
              "        \n",
              "  <svg xmlns=\"http://www.w3.org/2000/svg\" height=\"24px\"viewBox=\"0 0 24 24\"\n",
              "       width=\"24px\">\n",
              "    <path d=\"M0 0h24v24H0V0z\" fill=\"none\"/>\n",
              "    <path d=\"M18.56 5.44l.94 2.06.94-2.06 2.06-.94-2.06-.94-.94-2.06-.94 2.06-2.06.94zm-11 1L8.5 8.5l.94-2.06 2.06-.94-2.06-.94L8.5 2.5l-.94 2.06-2.06.94zm10 10l.94 2.06.94-2.06 2.06-.94-2.06-.94-.94-2.06-.94 2.06-2.06.94z\"/><path d=\"M17.41 7.96l-1.37-1.37c-.4-.4-.92-.59-1.43-.59-.52 0-1.04.2-1.43.59L10.3 9.45l-7.72 7.72c-.78.78-.78 2.05 0 2.83L4 21.41c.39.39.9.59 1.41.59.51 0 1.02-.2 1.41-.59l7.78-7.78 2.81-2.81c.8-.78.8-2.07 0-2.86zM5.41 20L4 18.59l7.72-7.72 1.47 1.35L5.41 20z\"/>\n",
              "  </svg>\n",
              "      </button>\n",
              "      \n",
              "  <style>\n",
              "    .colab-df-container {\n",
              "      display:flex;\n",
              "      flex-wrap:wrap;\n",
              "      gap: 12px;\n",
              "    }\n",
              "\n",
              "    .colab-df-convert {\n",
              "      background-color: #E8F0FE;\n",
              "      border: none;\n",
              "      border-radius: 50%;\n",
              "      cursor: pointer;\n",
              "      display: none;\n",
              "      fill: #1967D2;\n",
              "      height: 32px;\n",
              "      padding: 0 0 0 0;\n",
              "      width: 32px;\n",
              "    }\n",
              "\n",
              "    .colab-df-convert:hover {\n",
              "      background-color: #E2EBFA;\n",
              "      box-shadow: 0px 1px 2px rgba(60, 64, 67, 0.3), 0px 1px 3px 1px rgba(60, 64, 67, 0.15);\n",
              "      fill: #174EA6;\n",
              "    }\n",
              "\n",
              "    [theme=dark] .colab-df-convert {\n",
              "      background-color: #3B4455;\n",
              "      fill: #D2E3FC;\n",
              "    }\n",
              "\n",
              "    [theme=dark] .colab-df-convert:hover {\n",
              "      background-color: #434B5C;\n",
              "      box-shadow: 0px 1px 3px 1px rgba(0, 0, 0, 0.15);\n",
              "      filter: drop-shadow(0px 1px 2px rgba(0, 0, 0, 0.3));\n",
              "      fill: #FFFFFF;\n",
              "    }\n",
              "  </style>\n",
              "\n",
              "      <script>\n",
              "        const buttonEl =\n",
              "          document.querySelector('#df-fb41e78c-79e1-4e71-9cea-937e924f3b27 button.colab-df-convert');\n",
              "        buttonEl.style.display =\n",
              "          google.colab.kernel.accessAllowed ? 'block' : 'none';\n",
              "\n",
              "        async function convertToInteractive(key) {\n",
              "          const element = document.querySelector('#df-fb41e78c-79e1-4e71-9cea-937e924f3b27');\n",
              "          const dataTable =\n",
              "            await google.colab.kernel.invokeFunction('convertToInteractive',\n",
              "                                                     [key], {});\n",
              "          if (!dataTable) return;\n",
              "\n",
              "          const docLinkHtml = 'Like what you see? Visit the ' +\n",
              "            '<a target=\"_blank\" href=https://colab.research.google.com/notebooks/data_table.ipynb>data table notebook</a>'\n",
              "            + ' to learn more about interactive tables.';\n",
              "          element.innerHTML = '';\n",
              "          dataTable['output_type'] = 'display_data';\n",
              "          await google.colab.output.renderOutput(dataTable, element);\n",
              "          const docLink = document.createElement('div');\n",
              "          docLink.innerHTML = docLinkHtml;\n",
              "          element.appendChild(docLink);\n",
              "        }\n",
              "      </script>\n",
              "    </div>\n",
              "  </div>\n",
              "  "
            ]
          },
          "metadata": {},
          "execution_count": 15
        }
      ]
    },
    {
      "cell_type": "code",
      "source": [
        "#전체 결측치여부값 모두 더해 결측치 개수 세기\n",
        "print(X.isnull().sum())"
      ],
      "metadata": {
        "colab": {
          "base_uri": "https://localhost:8080/"
        },
        "id": "E-az-DhbNSyN",
        "outputId": "e1e6655e-f34c-48ba-cd7f-f65a235ba91b"
      },
      "execution_count": null,
      "outputs": [
        {
          "output_type": "stream",
          "name": "stdout",
          "text": [
            "cyl     2\n",
            "disp    0\n",
            "hp      0\n",
            "drat    0\n",
            "wt      0\n",
            "qsec    1\n",
            "vs      0\n",
            "am      0\n",
            "gear    0\n",
            "carb    0\n",
            "dtype: int64\n"
          ]
        }
      ]
    },
    {
      "cell_type": "code",
      "source": [
        "#평균 구해서 변수에 넣기\n",
        "X_cyl_mean = X['cyl'].mean()"
      ],
      "metadata": {
        "id": "R1DhTZIfPO00"
      },
      "execution_count": null,
      "outputs": []
    },
    {
      "cell_type": "code",
      "source": [
        "print(X_cyl_mean)"
      ],
      "metadata": {
        "colab": {
          "base_uri": "https://localhost:8080/"
        },
        "id": "tqablOJDPO3L",
        "outputId": "374bdea9-a4dc-43c4-d2d9-fab146a15e51"
      },
      "execution_count": null,
      "outputs": [
        {
          "output_type": "stream",
          "name": "stdout",
          "text": [
            "7.6\n"
          ]
        }
      ]
    },
    {
      "cell_type": "code",
      "source": [
        "#cyl열의 결측치를 X_cyl_mean 값으로 채우고, 다시 cyl열에 저장\n",
        "X['cyl'] = X['cyl'].fillna(X_cyl_mean)"
      ],
      "metadata": {
        "id": "kShbYHIpknpW"
      },
      "execution_count": null,
      "outputs": []
    },
    {
      "cell_type": "code",
      "source": [
        "print(X.isnull().sum())"
      ],
      "metadata": {
        "colab": {
          "base_uri": "https://localhost:8080/"
        },
        "id": "AwnN8dmKPfyL",
        "outputId": "58cef1f1-10cc-4750-e399-82d267b7cabd"
      },
      "execution_count": null,
      "outputs": [
        {
          "output_type": "stream",
          "name": "stdout",
          "text": [
            "cyl     0\n",
            "disp    0\n",
            "hp      0\n",
            "drat    0\n",
            "wt      0\n",
            "qsec    1\n",
            "vs      0\n",
            "am      0\n",
            "gear    0\n",
            "carb    0\n",
            "dtype: int64\n"
          ]
        }
      ]
    },
    {
      "cell_type": "code",
      "source": [
        "X_qsec_median = X['qsec'].median()"
      ],
      "metadata": {
        "id": "7eR_blIKPf0r"
      },
      "execution_count": null,
      "outputs": []
    },
    {
      "cell_type": "code",
      "source": [
        "print(X_qsec_median)"
      ],
      "metadata": {
        "id": "TmjVNbE1Pf2T",
        "colab": {
          "base_uri": "https://localhost:8080/"
        },
        "outputId": "dc9d5d8e-3e58-4ad3-f024-14c3b62831f8"
      },
      "execution_count": null,
      "outputs": [
        {
          "output_type": "stream",
          "name": "stdout",
          "text": [
            "17.6\n"
          ]
        }
      ]
    },
    {
      "cell_type": "code",
      "source": [
        "X['qsec'] = X['qsec'].fillna(X_qsec_median)"
      ],
      "metadata": {
        "id": "-BWmIvZ7QHkk"
      },
      "execution_count": null,
      "outputs": []
    },
    {
      "cell_type": "code",
      "source": [
        "#중위값으로 잘 대체되었는지 확인하려면\n",
        "#qsec열의결측치 개수 확인\n",
        "print(X['qsec'].isnull().sum())"
      ],
      "metadata": {
        "id": "9HWUWi57QHqT",
        "colab": {
          "base_uri": "https://localhost:8080/"
        },
        "outputId": "28a8a6f3-6c37-43c1-f2df-9a15fcc41dec"
      },
      "execution_count": null,
      "outputs": [
        {
          "output_type": "stream",
          "name": "stdout",
          "text": [
            "0\n"
          ]
        }
      ]
    },
    {
      "cell_type": "code",
      "source": [
        "#qsec 열의 결측치를 일괄 0으로 바꾸기\n",
        "X['qsec'].fillna(0)"
      ],
      "metadata": {
        "id": "Qsfem3iNSRyT",
        "colab": {
          "base_uri": "https://localhost:8080/"
        },
        "outputId": "1a76a2b3-1c7f-488f-8933-650ca58b3e4e"
      },
      "execution_count": null,
      "outputs": [
        {
          "output_type": "execute_result",
          "data": {
            "text/plain": [
              "0      16.46\n",
              "1      17.02\n",
              "2      18.61\n",
              "3       0.10\n",
              "4      17.02\n",
              "5      20.22\n",
              "6      15.84\n",
              "7      20.00\n",
              "8      22.90\n",
              "9      18.30\n",
              "10     17.60\n",
              "11     17.40\n",
              "12     17.60\n",
              "13     18.00\n",
              "14     17.98\n",
              "15     17.82\n",
              "16     17.42\n",
              "17     19.47\n",
              "18     18.52\n",
              "19     19.90\n",
              "20     20.01\n",
              "21     16.87\n",
              "22     17.30\n",
              "23     15.41\n",
              "24    100.00\n",
              "25     18.90\n",
              "26     16.70\n",
              "27     16.90\n",
              "28     14.50\n",
              "29     15.50\n",
              "30     14.60\n",
              "31     18.60\n",
              "Name: qsec, dtype: float64"
            ]
          },
          "metadata": {},
          "execution_count": 25
        }
      ]
    },
    {
      "cell_type": "code",
      "source": [
        "#gear 열의 구성값 보이기-특수문자 확인 가능\n",
        "print(X['gear'].unique())"
      ],
      "metadata": {
        "id": "PpwcEHPiSi1K",
        "colab": {
          "base_uri": "https://localhost:8080/"
        },
        "outputId": "4d1495be-142a-4e9e-f190-b03b7f25d13c"
      },
      "execution_count": null,
      "outputs": [
        {
          "output_type": "stream",
          "name": "stdout",
          "text": [
            "['4' '3' '*3' '5' '*5']\n"
          ]
        }
      ]
    },
    {
      "cell_type": "code",
      "source": [
        "#특수문자붙은걸 정상적인 값으로 되돌려주기\n",
        "print(X['gear'].replace('*3', '3').replace('*5','5'))"
      ],
      "metadata": {
        "id": "T4B2a31sS7hy",
        "colab": {
          "base_uri": "https://localhost:8080/"
        },
        "outputId": "a44121bf-3f24-46e3-8612-a092b592688c"
      },
      "execution_count": null,
      "outputs": [
        {
          "output_type": "stream",
          "name": "stdout",
          "text": [
            "0     4\n",
            "1     4\n",
            "2     4\n",
            "3     3\n",
            "4     3\n",
            "5     3\n",
            "6     3\n",
            "7     4\n",
            "8     4\n",
            "9     4\n",
            "10    4\n",
            "11    3\n",
            "12    3\n",
            "13    3\n",
            "14    3\n",
            "15    3\n",
            "16    3\n",
            "17    4\n",
            "18    4\n",
            "19    4\n",
            "20    3\n",
            "21    3\n",
            "22    3\n",
            "23    3\n",
            "24    3\n",
            "25    4\n",
            "26    5\n",
            "27    5\n",
            "28    5\n",
            "29    5\n",
            "30    5\n",
            "31    4\n",
            "Name: gear, dtype: object\n"
          ]
        }
      ]
    },
    {
      "cell_type": "code",
      "source": [],
      "metadata": {
        "id": "myp7y614TNKf"
      },
      "execution_count": null,
      "outputs": []
    },
    {
      "cell_type": "code",
      "source": [
        "#이렇게 변경된 값을 gear열에 다시 저장\n",
        "X['gear'] = X['gear'].replace('*3','3').replace('*5','5')"
      ],
      "metadata": {
        "id": "kS2LWGhUTNMz"
      },
      "execution_count": null,
      "outputs": []
    },
    {
      "cell_type": "code",
      "source": [
        "print(X['gear'].unique())"
      ],
      "metadata": {
        "id": "pGVT9EwtTfur",
        "colab": {
          "base_uri": "https://localhost:8080/"
        },
        "outputId": "6d206515-9dc3-4150-8e22-4b9f1382a616"
      },
      "execution_count": null,
      "outputs": [
        {
          "output_type": "stream",
          "name": "stdout",
          "text": [
            "['4' '3' '5']\n"
          ]
        }
      ]
    },
    {
      "cell_type": "code",
      "source": [
        "#사분범위 활용해 이상치 제거하기 \n",
        "#25%, 75% 열을 활용하기 위해 변수 생성하기\n",
        "X_describe = X.describe()\n",
        "print(X_describe)"
      ],
      "metadata": {
        "id": "WsxFRkt7TfxK",
        "colab": {
          "base_uri": "https://localhost:8080/"
        },
        "outputId": "29329e22-06a5-40ae-c3fa-220f7ddb877f"
      },
      "execution_count": null,
      "outputs": [
        {
          "output_type": "stream",
          "name": "stdout",
          "text": [
            "             cyl        disp          hp       drat         wt        qsec  \\\n",
            "count  32.000000   32.000000   32.000000  32.000000  32.000000   32.000000   \n",
            "mean    7.600000  230.721875  146.687500   3.596563   3.217250   19.795938   \n",
            "std     7.925459  123.938694   68.562868   0.534679   0.978457   15.066831   \n",
            "min     4.000000   71.100000   52.000000   2.760000   1.513000    0.100000   \n",
            "25%     4.000000  120.825000   96.500000   3.080000   2.581250   16.827500   \n",
            "50%     6.000000  196.300000  123.000000   3.695000   3.325000   17.600000   \n",
            "75%     8.000000  326.000000  180.000000   3.920000   3.610000   18.682500   \n",
            "max    50.000000  472.000000  335.000000   4.930000   5.424000  100.000000   \n",
            "\n",
            "              vs     carb  \n",
            "count  32.000000  32.0000  \n",
            "mean    0.437500   2.8125  \n",
            "std     0.504016   1.6152  \n",
            "min     0.000000   1.0000  \n",
            "25%     0.000000   2.0000  \n",
            "50%     0.000000   2.0000  \n",
            "75%     1.000000   4.0000  \n",
            "max     1.000000   8.0000  \n"
          ]
        }
      ]
    },
    {
      "cell_type": "code",
      "source": [
        "#X_describe변수에서 3사분위, 1사분위에 해당하는 열을 '값으로' 추출\n",
        "print(X_describe.loc['75%'], X_describe.loc['25%'])"
      ],
      "metadata": {
        "id": "lbCNU55BVh3j",
        "colab": {
          "base_uri": "https://localhost:8080/"
        },
        "outputId": "c8a86b12-f94a-44c9-e85b-a55e933e56bf"
      },
      "execution_count": null,
      "outputs": [
        {
          "output_type": "stream",
          "name": "stdout",
          "text": [
            "cyl       8.0000\n",
            "disp    326.0000\n",
            "hp      180.0000\n",
            "drat      3.9200\n",
            "wt        3.6100\n",
            "qsec     18.6825\n",
            "vs        1.0000\n",
            "carb      4.0000\n",
            "Name: 75%, dtype: float64 cyl       4.00000\n",
            "disp    120.82500\n",
            "hp       96.50000\n",
            "drat      3.08000\n",
            "wt        2.58125\n",
            "qsec     16.82750\n",
            "vs        0.00000\n",
            "carb      2.00000\n",
            "Name: 25%, dtype: float64\n"
          ]
        }
      ]
    },
    {
      "cell_type": "code",
      "source": [
        "#3사분-1사분해야 사분범위니까 변수 생성해서 사분범위 넣기\n",
        "X_iqr = X_describe.loc['75%'] - X_describe.loc['25%']\n",
        "print(X_iqr) #사분범위 변수 생성"
      ],
      "metadata": {
        "id": "q6fjO3OyVh6K",
        "colab": {
          "base_uri": "https://localhost:8080/"
        },
        "outputId": "058c9b78-0ebe-4fe2-e05c-4d725d024eef"
      },
      "execution_count": null,
      "outputs": [
        {
          "output_type": "stream",
          "name": "stdout",
          "text": [
            "cyl       4.00000\n",
            "disp    205.17500\n",
            "hp       83.50000\n",
            "drat      0.84000\n",
            "wt        1.02875\n",
            "qsec      1.85500\n",
            "vs        1.00000\n",
            "carb      2.00000\n",
            "dtype: float64\n"
          ]
        }
      ]
    },
    {
      "cell_type": "code",
      "source": [
        "#이상치 기준=1사분위-1.5*IQR, 3사분위+1.5*IQR\n",
        "print(X_describe.loc['75%']+(1.5*X_iqr)) \n",
        "#지금 나온애들이 최대 경계값임.(cyl은 14넘으면 이상치인것임)"
      ],
      "metadata": {
        "id": "Skc9zEjdV6Zx",
        "colab": {
          "base_uri": "https://localhost:8080/"
        },
        "outputId": "080c9ca4-b26b-49b9-9b1d-ea64232618bb"
      },
      "execution_count": null,
      "outputs": [
        {
          "output_type": "stream",
          "name": "stdout",
          "text": [
            "cyl      14.000000\n",
            "disp    633.762500\n",
            "hp      305.250000\n",
            "drat      5.180000\n",
            "wt        5.153125\n",
            "qsec     21.465000\n",
            "vs        2.500000\n",
            "carb      7.000000\n",
            "dtype: float64\n"
          ]
        }
      ]
    },
    {
      "cell_type": "code",
      "source": [
        "#아까 만든  통계량 변수에서 최대값을 보고, 이상치 여부를 판단해봄\n",
        "print(X_describe.loc['max'])"
      ],
      "metadata": {
        "id": "Mo5fvsmhWbQ6",
        "colab": {
          "base_uri": "https://localhost:8080/"
        },
        "outputId": "ad9d21d3-6416-41bc-dae9-cd54b300afe4"
      },
      "execution_count": null,
      "outputs": [
        {
          "output_type": "stream",
          "name": "stdout",
          "text": [
            "cyl      50.000\n",
            "disp    472.000\n",
            "hp      335.000\n",
            "drat      4.930\n",
            "wt        5.424\n",
            "qsec    100.000\n",
            "vs        1.000\n",
            "carb      8.000\n",
            "Name: max, dtype: float64\n"
          ]
        }
      ]
    },
    {
      "cell_type": "code",
      "source": [
        "#cyl열 값은 14넘어서면 이상치이므로, 초과하는 값 추출해보기\n",
        "print(X.loc[X['cyl']>14])\n",
        "#결과, 14행에 50인거 하나 나옴,"
      ],
      "metadata": {
        "id": "iwlhOvGvWbTh",
        "colab": {
          "base_uri": "https://localhost:8080/"
        },
        "outputId": "ab6b5eb0-cf0c-4b44-92ca-7f8db05db842"
      },
      "execution_count": null,
      "outputs": [
        {
          "output_type": "stream",
          "name": "stdout",
          "text": [
            "     cyl   disp   hp  drat    wt   qsec  vs    am gear  carb\n",
            "14  50.0  472.0  205  2.93  5.25  17.98   0  auto    3     4\n"
          ]
        }
      ]
    },
    {
      "cell_type": "code",
      "source": [
        "#나온애를(이상치를) 14로 변경해주기-14행 cyl열이었음\n",
        "X.loc[14,'cyl']=14"
      ],
      "metadata": {
        "id": "BmSZsGkSV6cJ"
      },
      "execution_count": null,
      "outputs": []
    },
    {
      "cell_type": "code",
      "source": [
        "X.loc[14,'cyl']"
      ],
      "metadata": {
        "id": "12FspH4ZYDVK",
        "colab": {
          "base_uri": "https://localhost:8080/"
        },
        "outputId": "279698a1-82ae-4c23-88d4-2bec224ac362"
      },
      "execution_count": null,
      "outputs": [
        {
          "output_type": "execute_result",
          "data": {
            "text/plain": [
              "14.0"
            ]
          },
          "metadata": {},
          "execution_count": 37
        }
      ]
    },
    {
      "cell_type": "code",
      "source": [
        "print(X.loc[X['hp']>305.25])"
      ],
      "metadata": {
        "id": "gaVJ0-GfYDXh",
        "colab": {
          "base_uri": "https://localhost:8080/"
        },
        "outputId": "a52c0e4b-4c4a-4309-a9a6-142e0996fd17"
      },
      "execution_count": null,
      "outputs": [
        {
          "output_type": "stream",
          "name": "stdout",
          "text": [
            "    cyl   disp   hp  drat    wt  qsec  vs      am gear  carb\n",
            "30  8.0  301.0  335  3.54  3.57  14.6   0  manual    5     8\n"
          ]
        }
      ]
    },
    {
      "cell_type": "code",
      "source": [
        "X.loc[30,'hp']=305.25"
      ],
      "metadata": {
        "id": "2KO-pxySYwBC"
      },
      "execution_count": null,
      "outputs": []
    },
    {
      "cell_type": "code",
      "source": [
        "X.loc[30,'hp']"
      ],
      "metadata": {
        "id": "QSuZxcTjYwDp",
        "colab": {
          "base_uri": "https://localhost:8080/"
        },
        "outputId": "66d3372f-a22f-4f50-ed91-3ded38fba5af"
      },
      "execution_count": null,
      "outputs": [
        {
          "output_type": "execute_result",
          "data": {
            "text/plain": [
              "305.25"
            ]
          },
          "metadata": {},
          "execution_count": 40
        }
      ]
    },
    {
      "cell_type": "code",
      "source": [
        "#이번엔 최소경계값(1사분-1.5*IQR)구해보기\n",
        "print(X_describe.loc['25%']-(X_iqr*1.5))\n",
        "#이것도 안되면 이상치인거임"
      ],
      "metadata": {
        "id": "nqrbgEDWY_ex",
        "colab": {
          "base_uri": "https://localhost:8080/"
        },
        "outputId": "c9479733-ced4-4020-d603-b81b9386d989"
      },
      "execution_count": null,
      "outputs": [
        {
          "output_type": "stream",
          "name": "stdout",
          "text": [
            "cyl      -2.000000\n",
            "disp   -186.937500\n",
            "hp      -28.750000\n",
            "drat      1.820000\n",
            "wt        1.038125\n",
            "qsec     14.045000\n",
            "vs       -1.500000\n",
            "carb     -1.000000\n",
            "dtype: float64\n"
          ]
        }
      ]
    },
    {
      "cell_type": "code",
      "source": [
        "#최솟값 확인하기\n",
        "print(X_describe.loc['min'])"
      ],
      "metadata": {
        "id": "ekBzcdjVY_uB",
        "colab": {
          "base_uri": "https://localhost:8080/"
        },
        "outputId": "23028b05-7dfa-4be5-b5e0-560cf4532369"
      },
      "execution_count": null,
      "outputs": [
        {
          "output_type": "stream",
          "name": "stdout",
          "text": [
            "cyl      4.000\n",
            "disp    71.100\n",
            "hp      52.000\n",
            "drat     2.760\n",
            "wt       1.513\n",
            "qsec     0.100\n",
            "vs       0.000\n",
            "carb     1.000\n",
            "Name: min, dtype: float64\n"
          ]
        }
      ]
    },
    {
      "cell_type": "code",
      "source": [
        "#data 와 column을 전달할때 이상값의 정보를 출력해주는 outlier 함수 작성\n",
        "def outlier(data,column):\n",
        "  mean = data[column].mean()\n",
        "  std = data[column].std()\n",
        "  lowest = mean -(std*1.5)\n",
        "  highest = mean + (std*1.5)\n",
        "  print('최소경계값 :', lowest, '최대경계값 : ', highest)\n",
        "  outlier_index = data[column][(data[column]<lowest)  #이상치의 위치확인\n",
        "                               |(data[column]>highest)].index\n",
        "  return outlier_index"
      ],
      "metadata": {
        "id": "Ja9mhw2esvp8"
      },
      "execution_count": null,
      "outputs": []
    },
    {
      "cell_type": "code",
      "source": [
        "print(outlier(X, 'qsec'))\n",
        "#24 인덱스(행)에 이상치 있음"
      ],
      "metadata": {
        "id": "UFzNBjdYsvsK",
        "colab": {
          "base_uri": "https://localhost:8080/"
        },
        "outputId": "7c6138ff-8053-42ce-946b-c245489ccb00"
      },
      "execution_count": null,
      "outputs": [
        {
          "output_type": "stream",
          "name": "stdout",
          "text": [
            "최소경계값 : -2.8043094560577657 최대경계값 :  42.39618445605777\n",
            "Int64Index([24], dtype='int64')\n"
          ]
        }
      ]
    },
    {
      "cell_type": "code",
      "source": [
        "#실제로 확인\n",
        "print(X.loc[24,'qsec'])"
      ],
      "metadata": {
        "colab": {
          "base_uri": "https://localhost:8080/"
        },
        "id": "mCBAd0HAsvwS",
        "outputId": "3b8284f8-b3d1-4fb4-80cf-1a308587f705"
      },
      "execution_count": null,
      "outputs": [
        {
          "output_type": "stream",
          "name": "stdout",
          "text": [
            "100.0\n"
          ]
        }
      ]
    },
    {
      "cell_type": "code",
      "source": [
        "#이상값을 평균+(표준편차*1.5)로 대치\n",
        "X.loc[24,'qsec'] =42.396\n",
        "print(X.loc[24,'qsec'])"
      ],
      "metadata": {
        "id": "yAWA71xlsvyq",
        "colab": {
          "base_uri": "https://localhost:8080/"
        },
        "outputId": "07d89a2a-541c-4c5a-82e9-f81e2c353977"
      },
      "execution_count": null,
      "outputs": [
        {
          "output_type": "stream",
          "name": "stdout",
          "text": [
            "42.396\n"
          ]
        }
      ]
    },
    {
      "cell_type": "code",
      "source": [
        "print(outlier(X,'carb'))"
      ],
      "metadata": {
        "id": "fBuFkUpixMeW",
        "colab": {
          "base_uri": "https://localhost:8080/"
        },
        "outputId": "525c5604-b7af-4aa9-dae0-37bf9580e0c3"
      },
      "execution_count": null,
      "outputs": [
        {
          "output_type": "stream",
          "name": "stdout",
          "text": [
            "최소경계값 : 0.3897000335522218 최대경계값 :  5.235299966447778\n",
            "Int64Index([29, 30], dtype='int64')\n"
          ]
        }
      ]
    },
    {
      "cell_type": "code",
      "source": [
        "print(X.loc[[29,30],'carb'])"
      ],
      "metadata": {
        "id": "HYdaWDd4xqFu",
        "colab": {
          "base_uri": "https://localhost:8080/"
        },
        "outputId": "42f55e94-55f4-4a5f-fdec-c1dbbc3952e4"
      },
      "execution_count": null,
      "outputs": [
        {
          "output_type": "stream",
          "name": "stdout",
          "text": [
            "29    6\n",
            "30    8\n",
            "Name: carb, dtype: int64\n"
          ]
        }
      ]
    },
    {
      "cell_type": "code",
      "source": [
        "#저 이상값 두개를 최대경계값인 5.235로 대치\n",
        "X.loc[29,'carb']= 5.235\n",
        "X.loc[30,'carb']= 5.235\n",
        "print(X.loc[[29,30],'carb'])"
      ],
      "metadata": {
        "id": "r2xfibUzxqIK",
        "colab": {
          "base_uri": "https://localhost:8080/"
        },
        "outputId": "d044c65b-ee87-4bcc-ab70-807e2ebb3271"
      },
      "execution_count": null,
      "outputs": [
        {
          "output_type": "stream",
          "name": "stdout",
          "text": [
            "29    5.235\n",
            "30    5.235\n",
            "Name: carb, dtype: float64\n"
          ]
        }
      ]
    },
    {
      "cell_type": "code",
      "source": [
        "#데이터스케일링 (Standard Scaling, MinMax Scaling, Robust Scaling)"
      ],
      "metadata": {
        "id": "BqCBtMl1xMhD"
      },
      "execution_count": null,
      "outputs": []
    },
    {
      "cell_type": "code",
      "source": [
        "from sklearn.preprocessing import StandardScaler"
      ],
      "metadata": {
        "id": "VURaeG5wxMjT"
      },
      "execution_count": null,
      "outputs": []
    },
    {
      "cell_type": "code",
      "source": [
        "#변환할 qsec 열만 추출해서 변수에 저장\n",
        "temp = X[['qsec']]"
      ],
      "metadata": {
        "id": "kGiXR6oJ2ihY"
      },
      "execution_count": null,
      "outputs": []
    },
    {
      "cell_type": "code",
      "source": [
        "#스케일링 객체 생성-StandardScaler 함수로\n",
        "scaler = StandardScaler()\n",
        "print(scaler.fit_transform(temp)) #fit_transform 명령으로 temp 변수의  크기변환요청"
      ],
      "metadata": {
        "id": "uwbwOooA2qHI",
        "colab": {
          "base_uri": "https://localhost:8080/"
        },
        "outputId": "97440935-2f8a-49f4-caa8-07e2f11f0d2a"
      },
      "execution_count": null,
      "outputs": [
        {
          "output_type": "stream",
          "name": "stdout",
          "text": [
            "[[-2.73145534e-01]\n",
            " [-1.73549067e-01]\n",
            " [ 1.09233759e-01]\n",
            " [-3.18278518e+00]\n",
            " [-1.73549067e-01]\n",
            " [ 3.95573602e-01]\n",
            " [-3.83413051e-01]\n",
            " [ 3.56446419e-01]\n",
            " [ 8.72213838e-01]\n",
            " [ 5.41000006e-02]\n",
            " [-7.03955833e-02]\n",
            " [-1.05965750e-01]\n",
            " [-7.03955833e-02]\n",
            " [ 7.44750368e-04]\n",
            " [-2.81226632e-03]\n",
            " [-3.12683998e-02]\n",
            " [-1.02408733e-01]\n",
            " [ 2.62185477e-01]\n",
            " [ 9.32271841e-02]\n",
            " [ 3.38661335e-01]\n",
            " [ 3.58224927e-01]\n",
            " [-2.00226692e-01]\n",
            " [-1.23750834e-01]\n",
            " [-4.59888910e-01]\n",
            " [ 4.33959370e+00]\n",
            " [ 1.60810501e-01]\n",
            " [-2.30461334e-01]\n",
            " [-1.94891167e-01]\n",
            " [-6.21733169e-01]\n",
            " [-4.43882335e-01]\n",
            " [-6.03948086e-01]\n",
            " [ 1.07455251e-01]]\n"
          ]
        }
      ]
    },
    {
      "cell_type": "code",
      "source": [
        "#표준크기변환 수행한 결과를 변수에 저장\n",
        "#이 결과는 데이터프레임 타입이 아닌데(array), 쉽게 데이터 처리를 할 수 있는 데이터프레임으로 변경.\n",
        "qsec_s_scaler = pd.DataFrame(scaler.fit_transform(temp))"
      ],
      "metadata": {
        "id": "lbY3XfCm2qLP"
      },
      "execution_count": null,
      "outputs": []
    },
    {
      "cell_type": "code",
      "source": [
        "print(qsec_s_scaler.describe()) #mean은 0에 근사한값, std는 1에 근사한 값으로-정규분포의 형태"
      ],
      "metadata": {
        "id": "P9S1WaNd2qN8",
        "colab": {
          "base_uri": "https://localhost:8080/"
        },
        "outputId": "1d57484f-fc0c-4f86-f2df-26abc6e32903"
      },
      "execution_count": null,
      "outputs": [
        {
          "output_type": "stream",
          "name": "stdout",
          "text": [
            "                  0\n",
            "count  3.200000e+01\n",
            "mean   6.938894e-17\n",
            "std    1.016001e+00\n",
            "min   -3.182785e+00\n",
            "25%   -2.077854e-01\n",
            "50%   -7.039558e-02\n",
            "75%    1.221279e-01\n",
            "max    4.339594e+00\n"
          ]
        }
      ]
    },
    {
      "cell_type": "code",
      "source": [
        "#Min-Max Scaler\n",
        "from sklearn.preprocessing import MinMaxScaler"
      ],
      "metadata": {
        "id": "k2k8HdB22iju"
      },
      "execution_count": null,
      "outputs": []
    },
    {
      "cell_type": "code",
      "source": [
        "temp = X[['qsec']]"
      ],
      "metadata": {
        "id": "Hmi0hODa4ARg"
      },
      "execution_count": null,
      "outputs": []
    },
    {
      "cell_type": "code",
      "source": [
        "scaler = MinMaxScaler() #스케일링 객체생성\n",
        "qsec_m_scaler = pd.DataFrame(scaler.fit_transform(temp)) #크기변환요청 후 변수에 넣고\n",
        "print(qsec_m_scaler)"
      ],
      "metadata": {
        "id": "EVGO6SVF4AT3",
        "colab": {
          "base_uri": "https://localhost:8080/"
        },
        "outputId": "f978c12e-53f7-4949-88f4-96d158966794"
      },
      "execution_count": null,
      "outputs": [
        {
          "output_type": "stream",
          "name": "stdout",
          "text": [
            "           0\n",
            "0   0.386798\n",
            "1   0.400038\n",
            "2   0.437630\n",
            "3   0.000000\n",
            "4   0.400038\n",
            "5   0.475695\n",
            "6   0.372139\n",
            "7   0.470494\n",
            "8   0.539058\n",
            "9   0.430301\n",
            "10  0.413751\n",
            "11  0.409022\n",
            "12  0.413751\n",
            "13  0.423208\n",
            "14  0.422735\n",
            "15  0.418952\n",
            "16  0.409495\n",
            "17  0.457963\n",
            "18  0.435502\n",
            "19  0.468129\n",
            "20  0.470730\n",
            "21  0.396491\n",
            "22  0.406658\n",
            "23  0.361973\n",
            "24  1.000000\n",
            "25  0.444486\n",
            "26  0.392472\n",
            "27  0.397201\n",
            "28  0.340458\n",
            "29  0.364101\n",
            "30  0.342822\n",
            "31  0.437394\n"
          ]
        }
      ]
    },
    {
      "cell_type": "code",
      "source": [
        "print(qsec_m_scaler.describe())"
      ],
      "metadata": {
        "id": "eWCASMOx7b3C",
        "colab": {
          "base_uri": "https://localhost:8080/"
        },
        "outputId": "67c985ba-55da-43b0-dc2c-ce6b8971116f"
      },
      "execution_count": null,
      "outputs": [
        {
          "output_type": "stream",
          "name": "stdout",
          "text": [
            "               0\n",
            "count  32.000000\n",
            "mean    0.423109\n",
            "std     0.135064\n",
            "min     0.000000\n",
            "25%     0.395487\n",
            "50%     0.413751\n",
            "75%     0.439344\n",
            "max     1.000000\n"
          ]
        }
      ]
    },
    {
      "cell_type": "code",
      "source": [
        "#RobustScaling\n",
        "from sklearn.preprocessing import RobustScaler"
      ],
      "metadata": {
        "id": "ls4RmL9E7b6Q"
      },
      "execution_count": null,
      "outputs": []
    },
    {
      "cell_type": "code",
      "source": [
        "temp = X[['qsec']]"
      ],
      "metadata": {
        "id": "HRyLahXA8OgE"
      },
      "execution_count": null,
      "outputs": []
    },
    {
      "cell_type": "code",
      "source": [
        "scaler = RobustScaler()\n",
        "qsec_r_scaler = pd.DataFrame(scaler.fit_transform(temp))\n",
        "print(qsec_r_scaler)"
      ],
      "metadata": {
        "id": "2watisJF8OjC",
        "colab": {
          "base_uri": "https://localhost:8080/"
        },
        "outputId": "65bb39ac-b380-4a03-efa2-b068103960af"
      },
      "execution_count": null,
      "outputs": [
        {
          "output_type": "stream",
          "name": "stdout",
          "text": [
            "            0\n",
            "0   -0.614555\n",
            "1   -0.312668\n",
            "2    0.544474\n",
            "3   -9.433962\n",
            "4   -0.312668\n",
            "5    1.412399\n",
            "6   -0.948787\n",
            "7    1.293801\n",
            "8    2.857143\n",
            "9    0.377358\n",
            "10   0.000000\n",
            "11  -0.107817\n",
            "12   0.000000\n",
            "13   0.215633\n",
            "14   0.204852\n",
            "15   0.118598\n",
            "16  -0.097035\n",
            "17   1.008086\n",
            "18   0.495957\n",
            "19   1.239892\n",
            "20   1.299191\n",
            "21  -0.393531\n",
            "22  -0.161725\n",
            "23  -1.180593\n",
            "24  13.367116\n",
            "25   0.700809\n",
            "26  -0.485175\n",
            "27  -0.377358\n",
            "28  -1.671159\n",
            "29  -1.132075\n",
            "30  -1.617251\n",
            "31   0.539084\n"
          ]
        }
      ]
    },
    {
      "cell_type": "code",
      "source": [
        "print(qsec_r_scaler.describe()) #중앙값 0, 사분위수(75%-25%)는1의 범위로  변환됨"
      ],
      "metadata": {
        "id": "8-BfPFg-8OmD",
        "colab": {
          "base_uri": "https://localhost:8080/"
        },
        "outputId": "c136bb16-e40b-4813-8179-c75c8d82a340"
      },
      "execution_count": null,
      "outputs": [
        {
          "output_type": "stream",
          "name": "stdout",
          "text": [
            "               0\n",
            "count  32.000000\n",
            "mean    0.213376\n",
            "std     3.079600\n",
            "min    -9.433962\n",
            "25%    -0.416442\n",
            "50%     0.000000\n",
            "75%     0.583558\n",
            "max    13.367116\n"
          ]
        }
      ]
    },
    {
      "cell_type": "code",
      "source": [
        "#데이터 타입 변경하기-범주형(object/string)과 연속형(int64/float64)가\n",
        "#적합하게 설정되었는지, 아니라면 astype()으로  타입을재설정"
      ],
      "metadata": {
        "id": "61AJwlo-7b_g"
      },
      "execution_count": null,
      "outputs": []
    },
    {
      "cell_type": "code",
      "source": [
        "#먼저 변수의 요약정보 확인\n",
        "print(X.info())"
      ],
      "metadata": {
        "id": "MVY02Lcj-KhI",
        "colab": {
          "base_uri": "https://localhost:8080/"
        },
        "outputId": "41e9474b-f7bd-4e88-f86f-ac9b3b2e35f9"
      },
      "execution_count": null,
      "outputs": [
        {
          "output_type": "stream",
          "name": "stdout",
          "text": [
            "<class 'pandas.core.frame.DataFrame'>\n",
            "RangeIndex: 32 entries, 0 to 31\n",
            "Data columns (total 10 columns):\n",
            " #   Column  Non-Null Count  Dtype  \n",
            "---  ------  --------------  -----  \n",
            " 0   cyl     32 non-null     float64\n",
            " 1   disp    32 non-null     float64\n",
            " 2   hp      32 non-null     float64\n",
            " 3   drat    32 non-null     float64\n",
            " 4   wt      32 non-null     float64\n",
            " 5   qsec    32 non-null     float64\n",
            " 6   vs      32 non-null     int64  \n",
            " 7   am      32 non-null     object \n",
            " 8   gear    32 non-null     object \n",
            " 9   carb    32 non-null     float64\n",
            "dtypes: float64(7), int64(1), object(2)\n",
            "memory usage: 2.6+ KB\n",
            "None\n"
          ]
        }
      ]
    },
    {
      "cell_type": "code",
      "source": [
        "#gear 열에서 숫자를 나타내야 하는데 object로 돼있음.  int64로 변경하고 다시 저장\n",
        "X['gear']= X['gear'].astype('int64')\n",
        "#바꼈는지 확인\n",
        "X['gear'].dtype"
      ],
      "metadata": {
        "id": "b4Hl_0hi-KjO",
        "colab": {
          "base_uri": "https://localhost:8080/"
        },
        "outputId": "716d5e4f-4337-4b6c-cf00-fb8fa8830424"
      },
      "execution_count": null,
      "outputs": [
        {
          "output_type": "execute_result",
          "data": {
            "text/plain": [
              "dtype('int64')"
            ]
          },
          "metadata": {},
          "execution_count": 66
        }
      ]
    },
    {
      "cell_type": "code",
      "source": [
        "#인코딩 - 원핫인코딩/라벨인코딩"
      ],
      "metadata": {
        "id": "zk82UPL8BTl6"
      },
      "execution_count": null,
      "outputs": []
    },
    {
      "cell_type": "code",
      "source": [
        "print(X.head())"
      ],
      "metadata": {
        "id": "LVEQUg3qBTpR",
        "colab": {
          "base_uri": "https://localhost:8080/"
        },
        "outputId": "3f7b8b88-78c3-4ce6-e025-be44abe2dbab"
      },
      "execution_count": null,
      "outputs": [
        {
          "output_type": "stream",
          "name": "stdout",
          "text": [
            "   cyl   disp     hp  drat     wt   qsec  vs      am  gear  carb\n",
            "0  6.0  160.0  110.0  3.90  2.620  16.46   0  manual     4   4.0\n",
            "1  6.0  160.0  110.0  3.90  2.875  17.02   0  manual     4   4.0\n",
            "2  4.0  108.0   93.0  3.85  2.320  18.61   1  manual     4   1.0\n",
            "3  6.0  258.0  110.0  3.08  3.215   0.10   1    auto     3   1.0\n",
            "4  8.0  360.0  175.0  3.15  3.440  17.02   0    auto     3   2.0\n"
          ]
        }
      ]
    },
    {
      "cell_type": "code",
      "source": [
        "print(X['am'].unique())"
      ],
      "metadata": {
        "id": "JqqVGTb_BTro",
        "colab": {
          "base_uri": "https://localhost:8080/"
        },
        "outputId": "77405fe6-45ea-49d8-f7e9-1f8e734c34f9"
      },
      "execution_count": null,
      "outputs": [
        {
          "output_type": "stream",
          "name": "stdout",
          "text": [
            "['manual' 'auto']\n"
          ]
        }
      ]
    },
    {
      "cell_type": "code",
      "source": [
        "#one hot encoding 'am'열에 수행해보기\n",
        "print(pd.get_dummies(X['am']))"
      ],
      "metadata": {
        "id": "MLC5Dj31-KpX",
        "colab": {
          "base_uri": "https://localhost:8080/"
        },
        "outputId": "ccd71a8e-f2ed-4b45-ca15-e1ca155f8335"
      },
      "execution_count": null,
      "outputs": [
        {
          "output_type": "stream",
          "name": "stdout",
          "text": [
            "    auto  manual\n",
            "0      0       1\n",
            "1      0       1\n",
            "2      0       1\n",
            "3      1       0\n",
            "4      1       0\n",
            "5      1       0\n",
            "6      1       0\n",
            "7      1       0\n",
            "8      1       0\n",
            "9      1       0\n",
            "10     1       0\n",
            "11     1       0\n",
            "12     1       0\n",
            "13     1       0\n",
            "14     1       0\n",
            "15     1       0\n",
            "16     1       0\n",
            "17     0       1\n",
            "18     0       1\n",
            "19     0       1\n",
            "20     1       0\n",
            "21     1       0\n",
            "22     1       0\n",
            "23     1       0\n",
            "24     1       0\n",
            "25     0       1\n",
            "26     0       1\n",
            "27     0       1\n",
            "28     0       1\n",
            "29     0       1\n",
            "30     0       1\n",
            "31     0       1\n"
          ]
        }
      ]
    },
    {
      "cell_type": "code",
      "source": [
        "#좀더 경제적으로, 하나의 열에 나열해 가독성을높이기\n",
        "print(pd.get_dummies(X['am'], drop_first=True))"
      ],
      "metadata": {
        "id": "iFaTikEm4AWc",
        "colab": {
          "base_uri": "https://localhost:8080/"
        },
        "outputId": "b4b43a48-64fd-48b5-c4d1-964f59bcd97d"
      },
      "execution_count": null,
      "outputs": [
        {
          "output_type": "stream",
          "name": "stdout",
          "text": [
            "    manual\n",
            "0        1\n",
            "1        1\n",
            "2        1\n",
            "3        0\n",
            "4        0\n",
            "5        0\n",
            "6        0\n",
            "7        0\n",
            "8        0\n",
            "9        0\n",
            "10       0\n",
            "11       0\n",
            "12       0\n",
            "13       0\n",
            "14       0\n",
            "15       0\n",
            "16       0\n",
            "17       1\n",
            "18       1\n",
            "19       1\n",
            "20       0\n",
            "21       0\n",
            "22       0\n",
            "23       0\n",
            "24       0\n",
            "25       1\n",
            "26       1\n",
            "27       1\n",
            "28       1\n",
            "29       1\n",
            "30       1\n",
            "31       1\n"
          ]
        }
      ]
    },
    {
      "cell_type": "code",
      "source": [
        "#라벨인코딩\n",
        "print(X['am'].head())"
      ],
      "metadata": {
        "id": "YOyrc0JRGrvn",
        "colab": {
          "base_uri": "https://localhost:8080/"
        },
        "outputId": "5eca9f29-f802-4901-b5cc-411db86c37b7"
      },
      "execution_count": null,
      "outputs": [
        {
          "output_type": "stream",
          "name": "stdout",
          "text": [
            "0    manual\n",
            "1    manual\n",
            "2    manual\n",
            "3      auto\n",
            "4      auto\n",
            "Name: am, dtype: object\n"
          ]
        }
      ]
    },
    {
      "cell_type": "code",
      "source": [
        "from sklearn.preprocessing import LabelEncoder"
      ],
      "metadata": {
        "id": "eev0TJWqJjXl"
      },
      "execution_count": null,
      "outputs": []
    },
    {
      "cell_type": "code",
      "source": [
        "encoder = LabelEncoder()"
      ],
      "metadata": {
        "id": "1DHdanDCJjaL"
      },
      "execution_count": null,
      "outputs": []
    },
    {
      "cell_type": "code",
      "source": [
        "print(encoder.fit_transform(X['am'])) #manual 은 1, auto는 0으로 변환됨"
      ],
      "metadata": {
        "id": "HPhv0jdvJyVd",
        "colab": {
          "base_uri": "https://localhost:8080/"
        },
        "outputId": "a57a1a6d-341a-4594-b1e5-e9c7660976c3"
      },
      "execution_count": null,
      "outputs": [
        {
          "output_type": "stream",
          "name": "stdout",
          "text": [
            "[1 1 1 0 0 0 0 0 0 0 0 0 0 0 0 0 0 1 1 1 0 0 0 0 0 1 1 1 1 1 1 1]\n"
          ]
        }
      ]
    },
    {
      "cell_type": "code",
      "source": [
        "#세가지종류의범주형 변수 임의생성->라벨 인코딩 연습\n",
        "fruit = ['apple','banana','grape']"
      ],
      "metadata": {
        "id": "0-nKVGnyJyYN"
      },
      "execution_count": null,
      "outputs": []
    },
    {
      "cell_type": "code",
      "source": [
        "encoder = LabelEncoder()"
      ],
      "metadata": {
        "id": "bypio6A2LMjS"
      },
      "execution_count": null,
      "outputs": []
    },
    {
      "cell_type": "code",
      "source": [
        "#라벨인코더 수행 뒤 새 변수에 저장\n",
        "fruit_new = encoder.fit_transform(fruit)"
      ],
      "metadata": {
        "id": "SFvG7iAfLMnY"
      },
      "execution_count": null,
      "outputs": []
    },
    {
      "cell_type": "code",
      "source": [
        "#결과비교\n",
        "print(fruit, fruit_new)"
      ],
      "metadata": {
        "id": "_wubgLg3Gryb",
        "colab": {
          "base_uri": "https://localhost:8080/"
        },
        "outputId": "39aa4cdc-c4bb-49e0-ca91-9c2f144a2386"
      },
      "execution_count": null,
      "outputs": [
        {
          "output_type": "stream",
          "name": "stdout",
          "text": [
            "['apple', 'banana', 'grape'] [0 1 2]\n"
          ]
        }
      ]
    },
    {
      "cell_type": "code",
      "source": [
        "#그밖에도, replace함수로 수동 인코딩 가능"
      ],
      "metadata": {
        "id": "DG5bLl6yMJD3"
      },
      "execution_count": null,
      "outputs": []
    },
    {
      "cell_type": "code",
      "source": [
        "#am_new 라는 열 새로 생성하고, manual은 0, auto는 1 로 변경하기\n",
        "X['am_new'] = X['am'].replace('manual',0).replace('auto',1)"
      ],
      "metadata": {
        "id": "k70GHszBiAM_"
      },
      "execution_count": null,
      "outputs": []
    },
    {
      "cell_type": "code",
      "source": [
        "print(X.head())"
      ],
      "metadata": {
        "id": "vH1-miaKiAPl",
        "colab": {
          "base_uri": "https://localhost:8080/"
        },
        "outputId": "ccb1a440-8057-4305-cc49-8bac42ac8426"
      },
      "execution_count": null,
      "outputs": [
        {
          "output_type": "stream",
          "name": "stdout",
          "text": [
            "   cyl   disp     hp  drat     wt   qsec  vs      am  gear  carb  am_new\n",
            "0  6.0  160.0  110.0  3.90  2.620  16.46   0  manual     4   4.0       0\n",
            "1  6.0  160.0  110.0  3.90  2.875  17.02   0  manual     4   4.0       0\n",
            "2  4.0  108.0   93.0  3.85  2.320  18.61   1  manual     4   1.0       0\n",
            "3  6.0  258.0  110.0  3.08  3.215   0.10   1    auto     3   1.0       1\n",
            "4  8.0  360.0  175.0  3.15  3.440  17.02   0    auto     3   2.0       1\n"
          ]
        }
      ]
    },
    {
      "cell_type": "code",
      "source": [
        "#이제 am열은 불필요하니 삭제-traceback은 두번눌러서 이미 없다고 뜬거임\n",
        "X = X.drop(columns=['am'])"
      ],
      "metadata": {
        "id": "o66njBtwiAR9"
      },
      "execution_count": null,
      "outputs": []
    },
    {
      "cell_type": "code",
      "source": [
        "print(X.head())"
      ],
      "metadata": {
        "id": "QiyuSKbHMJGT",
        "colab": {
          "base_uri": "https://localhost:8080/"
        },
        "outputId": "fbd00a2a-2d3b-40dd-96d3-b3dc3e773d18"
      },
      "execution_count": null,
      "outputs": [
        {
          "output_type": "stream",
          "name": "stdout",
          "text": [
            "   cyl   disp     hp  drat     wt   qsec  vs  gear  carb  am_new\n",
            "0  6.0  160.0  110.0  3.90  2.620  16.46   0     4   4.0       0\n",
            "1  6.0  160.0  110.0  3.90  2.875  17.02   0     4   4.0       0\n",
            "2  4.0  108.0   93.0  3.85  2.320  18.61   1     4   1.0       0\n",
            "3  6.0  258.0  110.0  3.08  3.215   0.10   1     3   1.0       1\n",
            "4  8.0  360.0  175.0  3.15  3.440  17.02   0     3   2.0       1\n"
          ]
        }
      ]
    },
    {
      "cell_type": "code",
      "source": [
        "#파생변수 생성하기\n",
        "#wt 열이 3.3보다 작으면 0, 크거나 같으면 1로 파생변수 생성"
      ],
      "metadata": {
        "id": "u4rfa9emt5dg"
      },
      "execution_count": null,
      "outputs": []
    },
    {
      "cell_type": "code",
      "source": [
        "print(X['wt']<3.3)"
      ],
      "metadata": {
        "id": "5QUH_9-ot5gN",
        "colab": {
          "base_uri": "https://localhost:8080/"
        },
        "outputId": "dd112f9e-9c2b-46a6-a3a8-71317efaf810"
      },
      "execution_count": null,
      "outputs": [
        {
          "output_type": "stream",
          "name": "stdout",
          "text": [
            "0      True\n",
            "1      True\n",
            "2      True\n",
            "3      True\n",
            "4     False\n",
            "5     False\n",
            "6     False\n",
            "7      True\n",
            "8      True\n",
            "9     False\n",
            "10    False\n",
            "11    False\n",
            "12    False\n",
            "13    False\n",
            "14    False\n",
            "15    False\n",
            "16    False\n",
            "17     True\n",
            "18     True\n",
            "19     True\n",
            "20     True\n",
            "21    False\n",
            "22    False\n",
            "23    False\n",
            "24    False\n",
            "25     True\n",
            "26     True\n",
            "27     True\n",
            "28     True\n",
            "29     True\n",
            "30    False\n",
            "31     True\n",
            "Name: wt, dtype: bool\n"
          ]
        }
      ]
    },
    {
      "cell_type": "code",
      "source": [
        "#condition 변수에 3.3보다 작은지의 여부를 담고, 조검 만족하면 열에 0으로 저장/아니면 1\n",
        "condition = X['wt']<3.3 \n",
        "X.loc[condition, 'wt_class']=0\n",
        "X.loc[~condition, 'wt_class']=1"
      ],
      "metadata": {
        "id": "6mgZhR0ct5kv"
      },
      "execution_count": null,
      "outputs": []
    },
    {
      "cell_type": "code",
      "source": [
        "print(X[['wt','wt_class']])"
      ],
      "metadata": {
        "id": "673j56t10Ecx",
        "colab": {
          "base_uri": "https://localhost:8080/"
        },
        "outputId": "205f0b80-7b66-4a8e-ef18-8f032479b353"
      },
      "execution_count": null,
      "outputs": [
        {
          "output_type": "stream",
          "name": "stdout",
          "text": [
            "       wt  wt_class\n",
            "0   2.620       0.0\n",
            "1   2.875       0.0\n",
            "2   2.320       0.0\n",
            "3   3.215       0.0\n",
            "4   3.440       1.0\n",
            "5   3.460       1.0\n",
            "6   3.570       1.0\n",
            "7   3.190       0.0\n",
            "8   3.150       0.0\n",
            "9   3.440       1.0\n",
            "10  3.440       1.0\n",
            "11  4.070       1.0\n",
            "12  3.730       1.0\n",
            "13  3.780       1.0\n",
            "14  5.250       1.0\n",
            "15  5.424       1.0\n",
            "16  5.345       1.0\n",
            "17  2.200       0.0\n",
            "18  1.615       0.0\n",
            "19  1.835       0.0\n",
            "20  2.465       0.0\n",
            "21  3.520       1.0\n",
            "22  3.435       1.0\n",
            "23  3.840       1.0\n",
            "24  3.845       1.0\n",
            "25  1.935       0.0\n",
            "26  2.140       0.0\n",
            "27  1.513       0.0\n",
            "28  3.170       0.0\n",
            "29  2.770       0.0\n",
            "30  3.570       1.0\n",
            "31  2.780       0.0\n"
          ]
        }
      ]
    },
    {
      "cell_type": "code",
      "source": [
        "#이제 wt는 삭제\n",
        "X = X.drop(columns=['wt'])"
      ],
      "metadata": {
        "id": "ChJ2zXlu0EhI"
      },
      "execution_count": null,
      "outputs": []
    },
    {
      "cell_type": "code",
      "source": [
        "print(X.head())"
      ],
      "metadata": {
        "id": "yha_wh5m0Ejo",
        "colab": {
          "base_uri": "https://localhost:8080/"
        },
        "outputId": "b0243358-f9c7-4ee0-8706-0820ac000d81"
      },
      "execution_count": null,
      "outputs": [
        {
          "output_type": "stream",
          "name": "stdout",
          "text": [
            "   cyl   disp     hp  drat   qsec  vs  gear  carb  am_new  wt_class\n",
            "0  6.0  160.0  110.0  3.90  16.46   0     4   4.0       0       0.0\n",
            "1  6.0  160.0  110.0  3.90  17.02   0     4   4.0       0       0.0\n",
            "2  4.0  108.0   93.0  3.85  18.61   1     4   1.0       0       0.0\n",
            "3  6.0  258.0  110.0  3.08   0.10   1     3   1.0       1       0.0\n",
            "4  8.0  360.0  175.0  3.15  17.02   0     3   2.0       1       1.0\n"
          ]
        }
      ]
    },
    {
      "cell_type": "code",
      "source": [
        "#이번엔 qsec전체열에 4배곱해서 새 열 생성\n",
        "X['qsec_4'] = X['qsec']*4"
      ],
      "metadata": {
        "id": "6JBA8gjit5nS"
      },
      "execution_count": null,
      "outputs": []
    },
    {
      "cell_type": "code",
      "source": [
        "print(X[['qsec','qsec_4']])"
      ],
      "metadata": {
        "id": "fxf0Bq3905dS",
        "colab": {
          "base_uri": "https://localhost:8080/"
        },
        "outputId": "9b368d9d-4d26-4c44-94c0-d92a9dc07ab2"
      },
      "execution_count": null,
      "outputs": [
        {
          "output_type": "stream",
          "name": "stdout",
          "text": [
            "      qsec   qsec_4\n",
            "0   16.460   65.840\n",
            "1   17.020   68.080\n",
            "2   18.610   74.440\n",
            "3    0.100    0.400\n",
            "4   17.020   68.080\n",
            "5   20.220   80.880\n",
            "6   15.840   63.360\n",
            "7   20.000   80.000\n",
            "8   22.900   91.600\n",
            "9   18.300   73.200\n",
            "10  17.600   70.400\n",
            "11  17.400   69.600\n",
            "12  17.600   70.400\n",
            "13  18.000   72.000\n",
            "14  17.980   71.920\n",
            "15  17.820   71.280\n",
            "16  17.420   69.680\n",
            "17  19.470   77.880\n",
            "18  18.520   74.080\n",
            "19  19.900   79.600\n",
            "20  20.010   80.040\n",
            "21  16.870   67.480\n",
            "22  17.300   69.200\n",
            "23  15.410   61.640\n",
            "24  42.396  169.584\n",
            "25  18.900   75.600\n",
            "26  16.700   66.800\n",
            "27  16.900   67.600\n",
            "28  14.500   58.000\n",
            "29  15.500   62.000\n",
            "30  14.600   58.400\n",
            "31  18.600   74.400\n"
          ]
        }
      ]
    },
    {
      "cell_type": "code",
      "source": [
        "X =X.drop(columns='qsec')"
      ],
      "metadata": {
        "id": "KuiSQmlW05go"
      },
      "execution_count": null,
      "outputs": []
    },
    {
      "cell_type": "code",
      "source": [
        "print(X.head())"
      ],
      "metadata": {
        "id": "OjaC0NRr05jX",
        "colab": {
          "base_uri": "https://localhost:8080/"
        },
        "outputId": "da86f795-c9c3-4480-8a93-989190771d41"
      },
      "execution_count": null,
      "outputs": [
        {
          "output_type": "stream",
          "name": "stdout",
          "text": [
            "   cyl   disp     hp  drat  vs  gear  carb  am_new  wt_class  qsec_4\n",
            "0  6.0  160.0  110.0  3.90   0     4   4.0       0       0.0   65.84\n",
            "1  6.0  160.0  110.0  3.90   0     4   4.0       0       0.0   68.08\n",
            "2  4.0  108.0   93.0  3.85   1     4   1.0       0       0.0   74.44\n",
            "3  6.0  258.0  110.0  3.08   1     3   1.0       1       0.0    0.40\n",
            "4  8.0  360.0  175.0  3.15   0     3   2.0       1       1.0   68.08\n"
          ]
        }
      ]
    },
    {
      "cell_type": "code",
      "source": [
        "#학습데이터/테스트데이터 분리하기\n",
        "from sklearn.model_selection import train_test_split"
      ],
      "metadata": {
        "id": "pkyxd6dv9tKB"
      },
      "execution_count": null,
      "outputs": []
    },
    {
      "cell_type": "code",
      "source": [
        "#X,Y 변수로 학습데이터는 70%, 테스트데이터는 30%로 분리하기\n",
        "x_train, x_test, y_train, y_test = train_test_split(X,Y,test_size=0.3, \n",
        "                                                    random_state=10)"
      ],
      "metadata": {
        "id": "07j1AkUt9vrB"
      },
      "execution_count": null,
      "outputs": []
    },
    {
      "cell_type": "code",
      "source": [
        "#독립변수인 학습데이터의 상위 5개 행 확인\n",
        "print(x_train.head())"
      ],
      "metadata": {
        "id": "GGHfWHAW9xjR",
        "colab": {
          "base_uri": "https://localhost:8080/"
        },
        "outputId": "dbbc23b7-8f05-4155-f23a-294fc7e13ac9"
      },
      "execution_count": null,
      "outputs": [
        {
          "output_type": "stream",
          "name": "stdout",
          "text": [
            "     cyl   disp     hp  drat  vs  gear  carb  am_new  wt_class  qsec_4\n",
            "19   4.0   71.1   65.0  4.22   1     4   1.0       0       0.0   79.60\n",
            "14  14.0  472.0  205.0  2.93   0     3   4.0       1       1.0   71.92\n",
            "18   4.0   75.7   52.0  4.93   1     4   2.0       0       0.0   74.08\n",
            "6    8.0  360.0  245.0  3.21   0     3   4.0       1       1.0   63.36\n",
            "11   8.0  275.8  180.0  3.07   0     3   3.0       1       1.0   69.60\n"
          ]
        }
      ]
    },
    {
      "cell_type": "code",
      "source": [
        "#공부하고 평가하는, 모델링."
      ],
      "metadata": {
        "id": "I1NZyr1_-SeT"
      },
      "execution_count": null,
      "outputs": []
    },
    {
      "cell_type": "code",
      "source": [
        "#선형회귀분석 : linear_model모듈에서 LinearRegression 모델 소환\n",
        "from sklearn.linear_model import LinearRegression"
      ],
      "metadata": {
        "id": "U42Uoi48-Shf"
      },
      "execution_count": null,
      "outputs": []
    },
    {
      "cell_type": "code",
      "source": [
        "model = LinearRegression()"
      ],
      "metadata": {
        "id": "2DXyOAh59xl3"
      },
      "execution_count": null,
      "outputs": []
    },
    {
      "cell_type": "code",
      "source": [
        "#생성한 모델에 x_train, y_train을 전달해서 선형회귀 방식으로 공부시킴\n",
        "model.fit(x_train,y_train)"
      ],
      "metadata": {
        "id": "uvOxAzicDmrg",
        "colab": {
          "base_uri": "https://localhost:8080/"
        },
        "outputId": "61125fcf-aff7-4506-b424-f70536b8f322"
      },
      "execution_count": null,
      "outputs": [
        {
          "output_type": "execute_result",
          "data": {
            "text/plain": [
              "LinearRegression()"
            ]
          },
          "metadata": {},
          "execution_count": 101
        }
      ]
    },
    {
      "cell_type": "code",
      "source": [
        "#학습 완료된 모델에 x_train 전달해 y_train 값 예측\n",
        "y_train_predicted = model.predict(x_train)"
      ],
      "metadata": {
        "id": "gSb3fis_Dmt_"
      },
      "execution_count": null,
      "outputs": []
    },
    {
      "cell_type": "code",
      "source": [
        "y_test_predicted = model.predict(x_test)"
      ],
      "metadata": {
        "id": "nQsOpdaaECqP"
      },
      "execution_count": null,
      "outputs": []
    },
    {
      "cell_type": "code",
      "source": [
        "#선형회귀 모델로 도출된 y 절편 값 구하기\n",
        "print(model.intercept_)"
      ],
      "metadata": {
        "id": "7fy9-8hkECs_",
        "colab": {
          "base_uri": "https://localhost:8080/"
        },
        "outputId": "a1250c8c-69a0-420c-fb86-115dc675305f"
      },
      "execution_count": null,
      "outputs": [
        {
          "output_type": "stream",
          "name": "stdout",
          "text": [
            "24.269976151248557\n"
          ]
        }
      ]
    },
    {
      "cell_type": "code",
      "source": [
        "#선형회귀 모델에 포함된 독립변수들의 각 기울기 값 구하기\n",
        "print(model.coef_) #회귀계수 값"
      ],
      "metadata": {
        "id": "OD_T0CSyECwJ",
        "colab": {
          "base_uri": "https://localhost:8080/"
        },
        "outputId": "4ccbba5a-ce4e-47a9-9aa9-256e01a21164"
      },
      "execution_count": null,
      "outputs": [
        {
          "output_type": "stream",
          "name": "stdout",
          "text": [
            "[-0.13806535 -0.01231226 -0.00409045  0.96664468  1.12299283  0.65737698\n",
            " -1.97459464 -3.57949528  0.01935106  0.02389729]\n"
          ]
        }
      ]
    },
    {
      "cell_type": "code",
      "source": [
        "#선형회귀 같은 예측모델은 보통 MAE, MSE, RMSE, 결정계수R제곱으로 평가 수행\n",
        "#MAE = 실제값과 예측값 차이를 제곱해서 평균 계산한 값\n",
        "#MSE = 실제값과 예측값 차이를 제곱해 평균 계산한 값\n",
        "#RMSE = MSE의 제곱근\n",
        "#R제곱 = 결정계수는 실제값 분산과 예측값 분산의 비율, 1에 가까울수록 예측 정확도 높음"
      ],
      "metadata": {
        "id": "0kumqiaoHx2i"
      },
      "execution_count": null,
      "outputs": []
    },
    {
      "cell_type": "code",
      "source": [
        "#선형회귀 분석 모델에서 학습데이터에대한 결정계수 구하기\n",
        "print(model.score(x_train,y_train))"
      ],
      "metadata": {
        "id": "7mL4mZQxHx5I",
        "colab": {
          "base_uri": "https://localhost:8080/"
        },
        "outputId": "ae9f8ca5-a1c3-4556-9fb8-b9d995ad6202"
      },
      "execution_count": null,
      "outputs": [
        {
          "output_type": "stream",
          "name": "stdout",
          "text": [
            "0.9063060047456276\n"
          ]
        }
      ]
    },
    {
      "cell_type": "code",
      "source": [
        "#선형회귀 분석 모델에서 테스트 데이터에 대한 결정계수 구하기\n",
        "print(model.score(x_test, y_test))"
      ],
      "metadata": {
        "id": "ZQ8Qg5PZHx7m",
        "colab": {
          "base_uri": "https://localhost:8080/"
        },
        "outputId": "9bae5a35-519f-4dfb-e5d9-1ee28cd0e69b"
      },
      "execution_count": null,
      "outputs": [
        {
          "output_type": "stream",
          "name": "stdout",
          "text": [
            "0.10181427149458\n"
          ]
        }
      ]
    },
    {
      "cell_type": "code",
      "source": [
        "#결정계수 계산하는 r2 score 함수 가져오기\n",
        "from sklearn.metrics import r2_score\n",
        "\n",
        "#MAE 계산하는 mean_absolute_error함수\n",
        "from sklearn.metrics import mean_absolute_error\n",
        "\n",
        "#MSE 계산하는 mean_squared_error함수\n",
        "from sklearn.metrics import mean_squared_error\n",
        "\n",
        "#제곱근 계산을 위해 numpy 라이브러리 가져오기\n",
        "import numpy as np"
      ],
      "metadata": {
        "id": "X7HMTjFm9xo2"
      },
      "execution_count": null,
      "outputs": []
    },
    {
      "cell_type": "code",
      "source": [
        "#학습데이터의 결정계수 구하기\n",
        "print(r2_score(y_train, y_train_predicted))"
      ],
      "metadata": {
        "id": "x9YuKdZJQS73",
        "colab": {
          "base_uri": "https://localhost:8080/"
        },
        "outputId": "7d9875b6-eb2b-40df-e70a-cc3d6b53bc71"
      },
      "execution_count": null,
      "outputs": [
        {
          "output_type": "stream",
          "name": "stdout",
          "text": [
            "0.9063060047456276\n"
          ]
        }
      ]
    },
    {
      "cell_type": "code",
      "source": [
        "#테스트 데이터의 결정계수 구하기\n",
        "print(r2_score(y_test,y_test_predicted))"
      ],
      "metadata": {
        "id": "kB47kcIgQTAR",
        "colab": {
          "base_uri": "https://localhost:8080/"
        },
        "outputId": "f1ac3c0d-8aa0-49e7-bc36-5be19d1e4ff4"
      },
      "execution_count": null,
      "outputs": [
        {
          "output_type": "stream",
          "name": "stdout",
          "text": [
            "0.10181427149458\n"
          ]
        }
      ]
    },
    {
      "cell_type": "code",
      "source": [
        "#테스트데이터의 MSE 지표 구하기\n",
        "print(mean_squared_error(y_test, y_test_predicted))"
      ],
      "metadata": {
        "id": "FyOGvn4cQTDe",
        "colab": {
          "base_uri": "https://localhost:8080/"
        },
        "outputId": "25730aeb-2f24-4e61-d0cf-931453e643dd"
      },
      "execution_count": null,
      "outputs": [
        {
          "output_type": "stream",
          "name": "stdout",
          "text": [
            "8.922577026972842\n"
          ]
        }
      ]
    },
    {
      "cell_type": "code",
      "source": [
        "#테스트 데이터의 RMSE 지표 구하기\n",
        "print(np.sqrt(mean_squared_error(y_test, y_test_predicted)))"
      ],
      "metadata": {
        "id": "qyNC_0voR34P",
        "colab": {
          "base_uri": "https://localhost:8080/"
        },
        "outputId": "2491573d-5d19-4431-ae1c-58cb6d57d5fd"
      },
      "execution_count": null,
      "outputs": [
        {
          "output_type": "stream",
          "name": "stdout",
          "text": [
            "2.9870682996832936\n"
          ]
        }
      ]
    },
    {
      "cell_type": "code",
      "source": [
        "#테스트 데이터의 MAE 지표 구하기\n",
        "print(mean_absolute_error(y_test,y_test_predicted))"
      ],
      "metadata": {
        "id": "UppEc56aR37G",
        "colab": {
          "base_uri": "https://localhost:8080/"
        },
        "outputId": "aeb8269e-aba0-4f77-d629-e165cbd55689"
      },
      "execution_count": null,
      "outputs": [
        {
          "output_type": "stream",
          "name": "stdout",
          "text": [
            "2.3740787517183968\n"
          ]
        }
      ]
    },
    {
      "cell_type": "code",
      "source": [
        "#이번에는 랜덤포레스트 회귀(예측)"
      ],
      "metadata": {
        "id": "tddHG47bR391"
      },
      "execution_count": null,
      "outputs": []
    },
    {
      "cell_type": "code",
      "source": [
        "#랜덤포레스트 회귀 : 무작위 다수 트리 만들어 투표로 값 결정\n",
        "#ensemble모듈에서 RandomForestRegressor모델 가져오기\n",
        "from sklearn.ensemble import RandomForestRegressor"
      ],
      "metadata": {
        "id": "SEj0bIU3SN-P"
      },
      "execution_count": null,
      "outputs": []
    },
    {
      "cell_type": "code",
      "source": [
        "#랜덤 포레스트 회귀 분석 수행할 모델 생성\n",
        "model = RandomForestRegressor(random_state=10)"
      ],
      "metadata": {
        "id": "JG4k00CfSOBG"
      },
      "execution_count": null,
      "outputs": []
    },
    {
      "cell_type": "code",
      "source": [
        "#생성한 모델에 x_train, y_train을 전달해서 랜덤 포레스트 회귀 분석 수행\n",
        "model.fit(x_train,y_train)"
      ],
      "metadata": {
        "id": "0XB-0omcSOD9",
        "colab": {
          "base_uri": "https://localhost:8080/"
        },
        "outputId": "8da68755-b247-4b2a-f4c6-7eefae3edb0d"
      },
      "execution_count": null,
      "outputs": [
        {
          "output_type": "execute_result",
          "data": {
            "text/plain": [
              "RandomForestRegressor(random_state=10)"
            ]
          },
          "metadata": {},
          "execution_count": 118
        }
      ]
    },
    {
      "cell_type": "code",
      "source": [
        "#학습이 완료된 모델에 x_train 전달해 y_train 값 예측\n",
        "y_train_predicted = model.predict(x_train)"
      ],
      "metadata": {
        "id": "V-0Nn3bQVHLS"
      },
      "execution_count": null,
      "outputs": []
    },
    {
      "cell_type": "code",
      "source": [
        "#학습 완료된 모델에 x_test전달해 y_test값 예측\n",
        "y_test_predicted = model.predict(x_test)"
      ],
      "metadata": {
        "id": "YTzT6Rn4VHN2"
      },
      "execution_count": null,
      "outputs": []
    },
    {
      "cell_type": "code",
      "source": [
        "#이제 metrics 모듈로 결정계수, MSE, MAE지표 계산하기\n",
        "from sklearn.metrics import r2_score, mean_squared_error, mean_absolute_error"
      ],
      "metadata": {
        "id": "rzTpiniWVHTV"
      },
      "execution_count": null,
      "outputs": []
    },
    {
      "cell_type": "code",
      "source": [
        "#학습데이터의 결정계수 구하기\n",
        "print(r2_score(y_train, y_train_predicted))"
      ],
      "metadata": {
        "id": "KAAfUsCDWmeu",
        "colab": {
          "base_uri": "https://localhost:8080/"
        },
        "outputId": "0a0ac547-b94c-48f2-d1e6-7228bf2da67f"
      },
      "execution_count": null,
      "outputs": [
        {
          "output_type": "stream",
          "name": "stdout",
          "text": [
            "0.9799238759255713\n"
          ]
        }
      ]
    },
    {
      "cell_type": "code",
      "source": [
        "#테스트 데이터의결정계수 구하기\n",
        "print(r2_score(y_test, y_test_predicted))"
      ],
      "metadata": {
        "id": "ZQbVq39gWmhV",
        "colab": {
          "base_uri": "https://localhost:8080/"
        },
        "outputId": "021ea634-0f1b-428a-f5d0-625f70a95dd5"
      },
      "execution_count": null,
      "outputs": [
        {
          "output_type": "stream",
          "name": "stdout",
          "text": [
            "0.379084225890872\n"
          ]
        }
      ]
    },
    {
      "cell_type": "code",
      "source": [
        "#테스트 데이터의 MSE 지표 구하기\n",
        "print(mean_squared_error(y_test, y_test_predicted))"
      ],
      "metadata": {
        "id": "7S4bPwd3WmjD",
        "colab": {
          "base_uri": "https://localhost:8080/"
        },
        "outputId": "54207807-107a-488d-b1d8-1b6f3ba823e4"
      },
      "execution_count": null,
      "outputs": [
        {
          "output_type": "stream",
          "name": "stdout",
          "text": [
            "6.168177300000077\n"
          ]
        }
      ]
    },
    {
      "cell_type": "code",
      "source": [
        "#테스트 데이터의 MAE 지표 구하기\n",
        "print(mean_absolute_error(y_test, y_test_predicted))"
      ],
      "metadata": {
        "id": "ovH1YfFKXqFO",
        "colab": {
          "base_uri": "https://localhost:8080/"
        },
        "outputId": "4674417d-d993-4a6d-d528-4b3cad18db87"
      },
      "execution_count": null,
      "outputs": [
        {
          "output_type": "stream",
          "name": "stdout",
          "text": [
            "1.809100000000011\n"
          ]
        }
      ]
    },
    {
      "cell_type": "code",
      "source": [
        "#MAE 지표의 품질을 높이기위해 랜덤 포레스트 회귀 분석 수행 과정 중 추가적인 정보 전달\n",
        "#하이퍼 파라미터- 1. 생성할 트리의 개수인 n_estimators 2.트리 분할 기준 criterion\n",
        "#트리 생성 개수를 기본값인 100에서 1000개로 증가시키고, 분할 기준은 기본값 MSE 지표에서\n",
        "#MAE 지표로 변경할 것을 요구하기"
      ],
      "metadata": {
        "id": "4_2eQf54XqJE"
      },
      "execution_count": null,
      "outputs": []
    },
    {
      "cell_type": "code",
      "source": [
        "model = RandomForestRegressor(n_estimators=1000, criterion='mae',random_state=10)"
      ],
      "metadata": {
        "id": "fpFPzRJFau5p"
      },
      "execution_count": null,
      "outputs": []
    },
    {
      "cell_type": "code",
      "source": [
        "#기본적인 정보가 담긴 모델에 학습데이터 전달해 공부시키기\n",
        "model.fit(x_train,y_train)"
      ],
      "metadata": {
        "id": "FKo8ICrEau8E",
        "colab": {
          "base_uri": "https://localhost:8080/"
        },
        "outputId": "1d12e745-742a-485f-ae04-a3e4455d8210"
      },
      "execution_count": null,
      "outputs": [
        {
          "output_type": "stream",
          "name": "stderr",
          "text": [
            "/usr/local/lib/python3.7/dist-packages/sklearn/ensemble/_forest.py:407: FutureWarning: Criterion 'mae' was deprecated in v1.0 and will be removed in version 1.2. Use `criterion='absolute_error'` which is equivalent.\n",
            "  FutureWarning,\n"
          ]
        },
        {
          "output_type": "execute_result",
          "data": {
            "text/plain": [
              "RandomForestRegressor(criterion='mae', n_estimators=1000, random_state=10)"
            ]
          },
          "metadata": {},
          "execution_count": 128
        }
      ]
    },
    {
      "cell_type": "code",
      "source": [
        "#학습 완료된 모델에 x_train전달해 y_train 예측하기\n",
        "y_train_predicted = model.predict(x_train)"
      ],
      "metadata": {
        "id": "e7djPZ-Bau-M"
      },
      "execution_count": null,
      "outputs": []
    },
    {
      "cell_type": "code",
      "source": [
        "#학습 완료된 모델에 x_test 전달해 y_test 예측하기\n",
        "y_test_predicted = model.predict(x_test)"
      ],
      "metadata": {
        "id": "GqPiKBRLXqLc"
      },
      "execution_count": null,
      "outputs": []
    },
    {
      "cell_type": "code",
      "source": [
        "#지금까지 n_estimators와 criterion 하이퍼파라미터를 추가해 랜덤포레스트 회귀분석함\n",
        "#MAE평가지표가 이전 대비 좋아졌는지 확인하기\n",
        "\n",
        "#학습 데이터 결정계수 구하기\n",
        "print(r2_score(y_train,y_train_predicted))"
      ],
      "metadata": {
        "id": "WaKWnjO6bywl",
        "colab": {
          "base_uri": "https://localhost:8080/"
        },
        "outputId": "d04cb817-eb15-451d-af9c-98727a301da8"
      },
      "execution_count": null,
      "outputs": [
        {
          "output_type": "stream",
          "name": "stdout",
          "text": [
            "0.9805355759422818\n"
          ]
        }
      ]
    },
    {
      "cell_type": "code",
      "source": [
        "#테스트 데이터 결정계수 구하기\n",
        "print(r2_score(y_test,y_test_predicted))"
      ],
      "metadata": {
        "id": "OM67-scHbyzE",
        "colab": {
          "base_uri": "https://localhost:8080/"
        },
        "outputId": "ba992f3a-f43a-4b67-dddb-fa930e96c51a"
      },
      "execution_count": null,
      "outputs": [
        {
          "output_type": "stream",
          "name": "stdout",
          "text": [
            "0.44313226215521484\n"
          ]
        }
      ]
    },
    {
      "cell_type": "code",
      "source": [
        "#테스트 데이터 MSE 지표 구하기\n",
        "print(mean_squared_error(y_test,y_test_predicted))"
      ],
      "metadata": {
        "id": "Ty7W4xlXby1E",
        "colab": {
          "base_uri": "https://localhost:8080/"
        },
        "outputId": "c2df933a-2a8b-4fa3-a05a-70d3a8632cde"
      },
      "execution_count": null,
      "outputs": [
        {
          "output_type": "stream",
          "name": "stdout",
          "text": [
            "5.531924107750095\n"
          ]
        }
      ]
    },
    {
      "cell_type": "code",
      "source": [
        "#테스트 데이터 MAE 지표 구하기\n",
        "print(mean_absolute_error(y_test,y_test_predicted))"
      ],
      "metadata": {
        "id": "_HW7wNb-c32k",
        "colab": {
          "base_uri": "https://localhost:8080/"
        },
        "outputId": "9b4d4502-7e71-4a4e-c761-79ce298aad4b"
      },
      "execution_count": null,
      "outputs": [
        {
          "output_type": "stream",
          "name": "stdout",
          "text": [
            "1.7446750000000346\n"
          ]
        }
      ]
    },
    {
      "cell_type": "code",
      "source": [
        "#MAE 지표는 0에 가까울수록 좋은 성능이므로 전(1.8)보다 나아짐(1.7) "
      ],
      "metadata": {
        "id": "2m6dIPYQc35T"
      },
      "execution_count": null,
      "outputs": []
    },
    {
      "cell_type": "code",
      "source": [
        "#그레디언트 부스팅 회귀 함수 소환\n",
        "from sklearn.ensemble import GradientBoostingRegressor"
      ],
      "metadata": {
        "id": "GRhV_ajae9kW"
      },
      "execution_count": null,
      "outputs": []
    },
    {
      "cell_type": "code",
      "source": [
        "#하이퍼 파라미터 기본값으로 모델 만들기\n",
        "model = GradientBoostingRegressor(random_state=10)"
      ],
      "metadata": {
        "id": "SWvp_PGqe9mz"
      },
      "execution_count": null,
      "outputs": []
    },
    {
      "cell_type": "code",
      "source": [
        "#학습 데이터로 모델공부시키고, 종속변수 예측\n",
        "model.fit(x_train, y_train)"
      ],
      "metadata": {
        "colab": {
          "base_uri": "https://localhost:8080/"
        },
        "id": "-eRWxQcae9qt",
        "outputId": "63f7db1d-d666-4e8a-c2ef-9a293f38b35b"
      },
      "execution_count": null,
      "outputs": [
        {
          "output_type": "execute_result",
          "data": {
            "text/plain": [
              "GradientBoostingRegressor(random_state=10)"
            ]
          },
          "metadata": {},
          "execution_count": 138
        }
      ]
    },
    {
      "cell_type": "code",
      "source": [
        "y_train_predicted = model.predict(x_train)\n",
        "y_test_predicted = model.predict(x_test)"
      ],
      "metadata": {
        "id": "p3Moy_mHfXGn"
      },
      "execution_count": null,
      "outputs": []
    },
    {
      "cell_type": "code",
      "source": [
        "#결정계수, MSE, MAE 구하는 함수 소환\n",
        "from sklearn.metrics import r2_score, mean_squared_error, mean_absolute_error"
      ],
      "metadata": {
        "id": "pTIkN2FIfXJW"
      },
      "execution_count": null,
      "outputs": []
    },
    {
      "cell_type": "code",
      "source": [
        "#결정계수, MSE, MAE구하기\n",
        "print(r2_score(y_train, y_train_predicted))"
      ],
      "metadata": {
        "colab": {
          "base_uri": "https://localhost:8080/"
        },
        "id": "xfvPrQpxfXMG",
        "outputId": "20a03c32-3c21-4a06-b580-ce2dea48a088"
      },
      "execution_count": null,
      "outputs": [
        {
          "output_type": "stream",
          "name": "stdout",
          "text": [
            "0.9999908554215274\n"
          ]
        }
      ]
    },
    {
      "cell_type": "code",
      "source": [
        "print(r2_score(y_test, y_test_predicted))"
      ],
      "metadata": {
        "colab": {
          "base_uri": "https://localhost:8080/"
        },
        "id": "7t61e7_xe9vk",
        "outputId": "68f7d3ba-c6f6-4f23-dfa7-33c8acbff11d"
      },
      "execution_count": null,
      "outputs": [
        {
          "output_type": "stream",
          "name": "stdout",
          "text": [
            "0.1559551191323465\n"
          ]
        }
      ]
    },
    {
      "cell_type": "code",
      "source": [
        "print(mean_squared_error(y_test, y_test_predicted))"
      ],
      "metadata": {
        "colab": {
          "base_uri": "https://localhost:8080/"
        },
        "id": "I6IIKpO9gKmz",
        "outputId": "e672e73b-3bfc-490a-e204-b70610cc1821"
      },
      "execution_count": null,
      "outputs": [
        {
          "output_type": "stream",
          "name": "stdout",
          "text": [
            "8.384741846539269\n"
          ]
        }
      ]
    },
    {
      "cell_type": "code",
      "source": [
        "print(mean_squared_error(y_train, y_train_predicted))"
      ],
      "metadata": {
        "colab": {
          "base_uri": "https://localhost:8080/"
        },
        "id": "2YD0P3tzgRX2",
        "outputId": "2c3c7c83-9557-4f17-bed5-3f05e911478b"
      },
      "execution_count": null,
      "outputs": [
        {
          "output_type": "stream",
          "name": "stdout",
          "text": [
            "0.000422984555559304\n"
          ]
        }
      ]
    },
    {
      "cell_type": "code",
      "source": [
        "print(mean_absolute_error(y_test, y_test_predicted))"
      ],
      "metadata": {
        "colab": {
          "base_uri": "https://localhost:8080/"
        },
        "id": "uIDxDCIDgKpP",
        "outputId": "f955e5b1-ff65-4174-ab7a-95bbb1c9a1b9"
      },
      "execution_count": null,
      "outputs": [
        {
          "output_type": "stream",
          "name": "stdout",
          "text": [
            "2.1754887773282503\n"
          ]
        }
      ]
    },
    {
      "cell_type": "code",
      "source": [
        "#xgboost 라이브러리에서 XGBRegressor함수 가져오기\n",
        "from xgboost import XGBRegressor"
      ],
      "metadata": {
        "id": "g-wHOEw-gdA-"
      },
      "execution_count": null,
      "outputs": []
    },
    {
      "cell_type": "code",
      "source": [
        "#XGBRegressor 함수 호출로학습시킬 모델 만들기\n",
        "model = XGBRegressor(random_state=10)"
      ],
      "metadata": {
        "id": "RwqFk5-lgkdO"
      },
      "execution_count": null,
      "outputs": []
    },
    {
      "cell_type": "code",
      "source": [
        "#학습데이터로 모델 공부시키고, 종속변수 예측\n",
        "model.fit(x_train, y_train)"
      ],
      "metadata": {
        "colab": {
          "base_uri": "https://localhost:8080/"
        },
        "id": "QkoAzZV2gkhQ",
        "outputId": "b186cff1-6f1a-4088-e348-2faaa96657d2"
      },
      "execution_count": null,
      "outputs": [
        {
          "output_type": "stream",
          "name": "stdout",
          "text": [
            "[01:17:25] WARNING: /workspace/src/objective/regression_obj.cu:152: reg:linear is now deprecated in favor of reg:squarederror.\n"
          ]
        },
        {
          "output_type": "execute_result",
          "data": {
            "text/plain": [
              "XGBRegressor(random_state=10)"
            ]
          },
          "metadata": {},
          "execution_count": 149
        }
      ]
    },
    {
      "cell_type": "code",
      "source": [
        "y_train_predicted = model.predict(x_train)\n",
        "y_test_predicted = model.predict(x_test)"
      ],
      "metadata": {
        "id": "TPBjVLWpgkj2"
      },
      "execution_count": null,
      "outputs": []
    },
    {
      "cell_type": "code",
      "source": [
        "#정량적 측정을 위해 metrics 모듈로 결정계수, MSE, MAE계산\n",
        "from sklearn.metrics import r2_score, mean_squared_error, mean_absolute_error"
      ],
      "metadata": {
        "id": "AaEGPpzRhGjh"
      },
      "execution_count": null,
      "outputs": []
    },
    {
      "cell_type": "code",
      "source": [
        "print(r2_score(y_train, y_train_predicted))"
      ],
      "metadata": {
        "colab": {
          "base_uri": "https://localhost:8080/"
        },
        "id": "eB2NOX_ZhGl_",
        "outputId": "21912d4d-90d2-4f99-cc98-52eccffd13ff"
      },
      "execution_count": null,
      "outputs": [
        {
          "output_type": "stream",
          "name": "stdout",
          "text": [
            "0.9994029070331579\n"
          ]
        }
      ]
    },
    {
      "cell_type": "code",
      "source": [
        "print(r2_score(y_test, y_test_predicted))"
      ],
      "metadata": {
        "colab": {
          "base_uri": "https://localhost:8080/"
        },
        "id": "-HVnK9MqipRX",
        "outputId": "dcb432a6-3439-4da0-aadb-55581ecdd76d"
      },
      "execution_count": null,
      "outputs": [
        {
          "output_type": "stream",
          "name": "stdout",
          "text": [
            "0.4476128447475184\n"
          ]
        }
      ]
    },
    {
      "cell_type": "code",
      "source": [
        "print(mean_squared_error(y_test, y_test_predicted))"
      ],
      "metadata": {
        "colab": {
          "base_uri": "https://localhost:8080/"
        },
        "id": "rm-I8rGGipTl",
        "outputId": "3b3633b9-d755-472b-fe75-82a75021cb9b"
      },
      "execution_count": null,
      "outputs": [
        {
          "output_type": "stream",
          "name": "stdout",
          "text": [
            "5.487414000278152\n"
          ]
        }
      ]
    },
    {
      "cell_type": "code",
      "source": [
        "print(mean_absolute_error(y_test, y_test_predicted))"
      ],
      "metadata": {
        "colab": {
          "base_uri": "https://localhost:8080/"
        },
        "id": "liJ_aIkTipVt",
        "outputId": "e0cdd2ef-4c7e-4c89-e5e0-e326db33f8c5"
      },
      "execution_count": null,
      "outputs": [
        {
          "output_type": "stream",
          "name": "stdout",
          "text": [
            "2.0459949302673337\n"
          ]
        }
      ]
    },
    {
      "cell_type": "code",
      "source": [
        "#분류모델링 수행하기(종속변수 범주형일때)\n",
        "#기존 만들어놓은 x_train, x_test, y_test, y_train 가공해서 수행"
      ],
      "metadata": {
        "id": "eo2HXvnji3WB"
      },
      "execution_count": null,
      "outputs": []
    },
    {
      "cell_type": "code",
      "source": [
        "#x_train 변수에서 종속변수인 am_new열 삭제\n",
        "x_train2 = x_train.drop(columns='am_new')"
      ],
      "metadata": {
        "id": "T-SJ1Jh1i3Y3"
      },
      "execution_count": null,
      "outputs": []
    },
    {
      "cell_type": "code",
      "source": [
        "#종속변수 생성\n",
        "y_train2 = x_train['am_new']"
      ],
      "metadata": {
        "id": "ZCeWvZn4i3bd"
      },
      "execution_count": null,
      "outputs": []
    },
    {
      "cell_type": "code",
      "source": [
        "x_test2 = x_test.drop(columns ='am_new')"
      ],
      "metadata": {
        "id": "bbDA-YPqn4Lb"
      },
      "execution_count": null,
      "outputs": []
    },
    {
      "cell_type": "code",
      "source": [
        "y_test2 = x_test['am_new']"
      ],
      "metadata": {
        "id": "rjxbVB-On4N2"
      },
      "execution_count": null,
      "outputs": []
    },
    {
      "cell_type": "code",
      "source": [
        "#분류모델-의사결정나무(트리분할, 가지치기과정 반복으로 모델생성-과적합위험)"
      ],
      "metadata": {
        "id": "OtNyy_cwoa5r"
      },
      "execution_count": null,
      "outputs": []
    },
    {
      "cell_type": "code",
      "source": [
        "from sklearn.tree import DecisionTreeClassifier"
      ],
      "metadata": {
        "id": "BDeib9Qtoa7y"
      },
      "execution_count": null,
      "outputs": []
    },
    {
      "cell_type": "code",
      "source": [
        "model = DecisionTreeClassifier()"
      ],
      "metadata": {
        "id": "GSU5v-yCoa-Y"
      },
      "execution_count": null,
      "outputs": []
    },
    {
      "cell_type": "code",
      "source": [
        "#생성한 모델에 train전달해서 의사결정나무 분류방식으로 학습시키기\n",
        "model.fit(x_train2, y_train2)"
      ],
      "metadata": {
        "colab": {
          "base_uri": "https://localhost:8080/"
        },
        "id": "WH40uzzvqWCg",
        "outputId": "3256f473-609c-41f0-e0c6-6db818866756"
      },
      "execution_count": null,
      "outputs": [
        {
          "output_type": "execute_result",
          "data": {
            "text/plain": [
              "DecisionTreeClassifier()"
            ]
          },
          "metadata": {},
          "execution_count": 164
        }
      ]
    },
    {
      "cell_type": "code",
      "source": [
        "#학습 완료된 모델에 x_test전달해서 대응하는 y_test 예측\n",
        "y_test2_predicted = model.predict(x_test2)"
      ],
      "metadata": {
        "id": "A2nnkb7FqWE2"
      },
      "execution_count": null,
      "outputs": []
    },
    {
      "cell_type": "code",
      "source": [
        "#평가지표 확인(분류모델의 주요평가지표 : ROC-AUC, 정확도, 정밀도,재현율)\n",
        "from sklearn.metrics import roc_auc_score"
      ],
      "metadata": {
        "id": "fT2RBY2Vn4QS"
      },
      "execution_count": null,
      "outputs": []
    },
    {
      "cell_type": "code",
      "source": [
        "from sklearn.metrics import accuracy_score, precision_score,recall_score"
      ],
      "metadata": {
        "id": "JmEbldY9qx9E"
      },
      "execution_count": null,
      "outputs": []
    },
    {
      "cell_type": "code",
      "source": [
        "#roc-auc구하기(각 지표는 1에 가까울수록 성능이 좋은 모델)\n",
        "print(roc_auc_score(y_test2, y_test2_predicted))"
      ],
      "metadata": {
        "colab": {
          "base_uri": "https://localhost:8080/"
        },
        "id": "7xqwU24hqyBK",
        "outputId": "4776d125-66d2-4fbb-81bd-8e05b84e01bb"
      },
      "execution_count": null,
      "outputs": [
        {
          "output_type": "stream",
          "name": "stdout",
          "text": [
            "0.7857142857142857\n"
          ]
        }
      ]
    },
    {
      "cell_type": "code",
      "source": [
        "print(accuracy_score(y_test2, y_test2_predicted))"
      ],
      "metadata": {
        "colab": {
          "base_uri": "https://localhost:8080/"
        },
        "id": "j2Q7OrOUqyD1",
        "outputId": "22d85a0b-e4c6-4748-bce4-38a064ce667f"
      },
      "execution_count": null,
      "outputs": [
        {
          "output_type": "stream",
          "name": "stdout",
          "text": [
            "0.7\n"
          ]
        }
      ]
    },
    {
      "cell_type": "code",
      "source": [
        "print(precision_score(y_test2,y_test2_predicted))"
      ],
      "metadata": {
        "colab": {
          "base_uri": "https://localhost:8080/"
        },
        "id": "6-zAzaXHwJ4h",
        "outputId": "2cc98100-f8d9-4c6f-b088-6c38f2973225"
      },
      "execution_count": null,
      "outputs": [
        {
          "output_type": "stream",
          "name": "stdout",
          "text": [
            "1.0\n"
          ]
        }
      ]
    },
    {
      "cell_type": "code",
      "source": [
        "print(recall_score(y_test2, y_test2_predicted))"
      ],
      "metadata": {
        "colab": {
          "base_uri": "https://localhost:8080/"
        },
        "id": "oe5Qp0k-wJ7I",
        "outputId": "64f531ec-d9a3-4f99-a06a-a11784335165"
      },
      "execution_count": null,
      "outputs": [
        {
          "output_type": "stream",
          "name": "stdout",
          "text": [
            "0.5714285714285714\n"
          ]
        }
      ]
    },
    {
      "cell_type": "code",
      "source": [
        "#랜덤포레스트 분류: 앙상블 모형, 무작위 다수 트리 만들어 투표로 값 결정"
      ],
      "metadata": {
        "id": "HGBV4LyhwclH"
      },
      "execution_count": null,
      "outputs": []
    },
    {
      "cell_type": "code",
      "source": [
        "from sklearn.ensemble import RandomForestClassifier"
      ],
      "metadata": {
        "id": "pUjRQQAUwcnp"
      },
      "execution_count": null,
      "outputs": []
    },
    {
      "cell_type": "code",
      "source": [
        "model = RandomForestClassifier()"
      ],
      "metadata": {
        "id": "BUjqokJxJDu6"
      },
      "execution_count": null,
      "outputs": []
    },
    {
      "cell_type": "code",
      "source": [
        "model.fit(x_train2, y_train2)"
      ],
      "metadata": {
        "colab": {
          "base_uri": "https://localhost:8080/"
        },
        "id": "ID4TDGT0JDxW",
        "outputId": "5531f5fd-8e48-4d9a-bc6c-0787ecb7cd87"
      },
      "execution_count": null,
      "outputs": [
        {
          "output_type": "execute_result",
          "data": {
            "text/plain": [
              "RandomForestClassifier()"
            ]
          },
          "metadata": {},
          "execution_count": 175
        }
      ]
    },
    {
      "cell_type": "code",
      "source": [
        "#학습 완료된 모델에 x_test2 전달해 y_test2 예측하기\n",
        "y_test2_predicted = model.predict(x_test2)"
      ],
      "metadata": {
        "id": "kMjDqSMhJDzV"
      },
      "execution_count": null,
      "outputs": []
    },
    {
      "cell_type": "code",
      "source": [
        "#ROC-AUC 계산\n",
        "from sklearn.metrics import roc_auc_score"
      ],
      "metadata": {
        "id": "GDmd4npIJD1m"
      },
      "execution_count": null,
      "outputs": []
    },
    {
      "cell_type": "code",
      "source": [
        "#평가지표 확인-테스트 데이터의 roc-auc 구하기\n",
        "print(roc_auc_score(y_test2, y_test2_predicted))"
      ],
      "metadata": {
        "colab": {
          "base_uri": "https://localhost:8080/"
        },
        "id": "xtFqxuF2Jjao",
        "outputId": "003e2600-4958-4c68-d479-4b8623232848"
      },
      "execution_count": null,
      "outputs": [
        {
          "output_type": "stream",
          "name": "stdout",
          "text": [
            "0.8571428571428572\n"
          ]
        }
      ]
    },
    {
      "cell_type": "code",
      "source": [
        "#로지스틱 회귀 분류-종속변수가 어떤 범주에 속할지 \n",
        "#0과 1 사이의 연속적인 확률로 예측하는 회귀알고리즘(이진분류)"
      ],
      "metadata": {
        "id": "ExjDDhKmJjdO"
      },
      "execution_count": null,
      "outputs": []
    },
    {
      "cell_type": "code",
      "source": [
        "from sklearn.linear_model import LogisticRegression"
      ],
      "metadata": {
        "id": "gYoD-KxVJjfo"
      },
      "execution_count": null,
      "outputs": []
    },
    {
      "cell_type": "code",
      "source": [
        "model = LogisticRegression()"
      ],
      "metadata": {
        "id": "nkHEGonTKdvB"
      },
      "execution_count": null,
      "outputs": []
    },
    {
      "cell_type": "code",
      "source": [
        "model.fit(x_train2, y_train2)"
      ],
      "metadata": {
        "colab": {
          "base_uri": "https://localhost:8080/"
        },
        "id": "m-UUSMpDKdxs",
        "outputId": "9ccd2c9a-dcdc-4620-a055-877ea22d0788"
      },
      "execution_count": null,
      "outputs": [
        {
          "output_type": "stream",
          "name": "stderr",
          "text": [
            "/usr/local/lib/python3.7/dist-packages/sklearn/linear_model/_logistic.py:818: ConvergenceWarning: lbfgs failed to converge (status=1):\n",
            "STOP: TOTAL NO. of ITERATIONS REACHED LIMIT.\n",
            "\n",
            "Increase the number of iterations (max_iter) or scale the data as shown in:\n",
            "    https://scikit-learn.org/stable/modules/preprocessing.html\n",
            "Please also refer to the documentation for alternative solver options:\n",
            "    https://scikit-learn.org/stable/modules/linear_model.html#logistic-regression\n",
            "  extra_warning_msg=_LOGISTIC_SOLVER_CONVERGENCE_MSG,\n"
          ]
        },
        {
          "output_type": "execute_result",
          "data": {
            "text/plain": [
              "LogisticRegression()"
            ]
          },
          "metadata": {},
          "execution_count": 182
        }
      ]
    },
    {
      "cell_type": "code",
      "source": [
        "#학습 완료된 모델로 y_test2예측\n",
        "y_test2_predicted = model.predict(x_test2)"
      ],
      "metadata": {
        "id": "89UuUIL_KuCC"
      },
      "execution_count": null,
      "outputs": []
    },
    {
      "cell_type": "code",
      "source": [
        "#평가지표 확인-roc-auc\n",
        "from sklearn.metrics import roc_auc_score"
      ],
      "metadata": {
        "id": "wnOrDjlCKuEt"
      },
      "execution_count": null,
      "outputs": []
    },
    {
      "cell_type": "code",
      "source": [
        "print(roc_auc_score(y_test2, y_test2_predicted))"
      ],
      "metadata": {
        "colab": {
          "base_uri": "https://localhost:8080/"
        },
        "id": "4dBn-UL1KuHK",
        "outputId": "e48591f4-00ec-43c1-a9af-ff270070e271"
      },
      "execution_count": null,
      "outputs": [
        {
          "output_type": "stream",
          "name": "stdout",
          "text": [
            "0.7619047619047621\n"
          ]
        }
      ]
    },
    {
      "cell_type": "code",
      "source": [
        "#익스트림 그레디언트부스팅 분류(XGB분류)\n",
        "#다수의 약한 분류기를 묶어 정확도를 향상시킴, 병렬처리 기능 지원해 빠른속도"
      ],
      "metadata": {
        "id": "QMEnmVKQK-qZ"
      },
      "execution_count": null,
      "outputs": []
    },
    {
      "cell_type": "code",
      "source": [
        "from xgboost import XGBClassifier"
      ],
      "metadata": {
        "id": "j_osn8OuK-tK"
      },
      "execution_count": null,
      "outputs": []
    },
    {
      "cell_type": "code",
      "source": [
        "model = XGBClassifier()"
      ],
      "metadata": {
        "id": "83vfamLBPo_v"
      },
      "execution_count": null,
      "outputs": []
    },
    {
      "cell_type": "code",
      "source": [
        "model.fit(x_train2, y_train2)"
      ],
      "metadata": {
        "colab": {
          "base_uri": "https://localhost:8080/"
        },
        "id": "mEI43oHzPpCU",
        "outputId": "f0dc8d76-b367-4c1f-e54e-ee07b6c31c01"
      },
      "execution_count": null,
      "outputs": [
        {
          "output_type": "execute_result",
          "data": {
            "text/plain": [
              "XGBClassifier()"
            ]
          },
          "metadata": {},
          "execution_count": 188
        }
      ]
    },
    {
      "cell_type": "code",
      "source": [
        "y_test2_predicted = model.predict(x_test2)"
      ],
      "metadata": {
        "id": "LA8L2a4aPpEf"
      },
      "execution_count": null,
      "outputs": []
    },
    {
      "cell_type": "code",
      "source": [
        "print(y_test2_predicted)"
      ],
      "metadata": {
        "colab": {
          "base_uri": "https://localhost:8080/"
        },
        "id": "-M7eMS76P1AV",
        "outputId": "5a8ce24a-9f5d-404b-a292-e5f0cd98a095"
      },
      "execution_count": null,
      "outputs": [
        {
          "output_type": "stream",
          "name": "stdout",
          "text": [
            "[0 0 1 0 1 1 1 1 1 0]\n"
          ]
        }
      ]
    },
    {
      "cell_type": "code",
      "source": [
        "#지금까지는 종속변수의 분류값을 예측했지만, \n",
        "#이제부터는 분류해야 하는 종속변수의 0과 1에 대한 확률값 계산\n",
        "#최종적으로 확률 높은값(0또는 1)을 예측값으로 분류-predict_prob()"
      ],
      "metadata": {
        "id": "PDgE_fcoP1Ul"
      },
      "execution_count": null,
      "outputs": []
    },
    {
      "cell_type": "code",
      "source": [
        "y_test2_proba = model.predict_proba(x_test2)"
      ],
      "metadata": {
        "id": "YNlcl9KOP1XL"
      },
      "execution_count": null,
      "outputs": []
    },
    {
      "cell_type": "code",
      "source": [
        "print(y_test2_proba)\n",
        "#결과는 10행 2열, 1열은 0값으로 분류될 확률, 2열은 1값으로 분류될 확률."
      ],
      "metadata": {
        "colab": {
          "base_uri": "https://localhost:8080/"
        },
        "id": "3cuMYu9qQhrj",
        "outputId": "0e1c9f2e-5b48-45cb-a203-a67518d87b8b"
      },
      "execution_count": null,
      "outputs": [
        {
          "output_type": "stream",
          "name": "stdout",
          "text": [
            "[[0.55889904 0.44110098]\n",
            " [0.6538493  0.3461507 ]\n",
            " [0.03395873 0.96604127]\n",
            " [0.8737407  0.1262593 ]\n",
            " [0.11220491 0.8877951 ]\n",
            " [0.06976068 0.9302393 ]\n",
            " [0.04053593 0.9594641 ]\n",
            " [0.39705497 0.602945  ]\n",
            " [0.04464304 0.95535696]\n",
            " [0.85149    0.14851001]]\n"
          ]
        }
      ]
    },
    {
      "cell_type": "code",
      "source": [
        "from sklearn.metrics import roc_auc_score"
      ],
      "metadata": {
        "id": "67h6ovybQhuJ"
      },
      "execution_count": null,
      "outputs": []
    },
    {
      "cell_type": "code",
      "source": [
        "print(roc_auc_score(y_test2, y_test2_predicted))"
      ],
      "metadata": {
        "colab": {
          "base_uri": "https://localhost:8080/"
        },
        "id": "-PsJtXqQQmIW",
        "outputId": "480a90ba-409a-4df6-ca5d-1831aa55c086"
      },
      "execution_count": null,
      "outputs": [
        {
          "output_type": "stream",
          "name": "stdout",
          "text": [
            "0.6904761904761906\n"
          ]
        }
      ]
    },
    {
      "cell_type": "code",
      "source": [
        "#SVC-서포트벡터분류\n",
        "#모델 학습 및 테스트 데이터의 종속변수 예측하기\n",
        "from sklearn.svm import SVC\n",
        "model = SVC()\n",
        "model.fit(x_train2, y_train2)\n",
        "y_test2_predicted = model.predict(x_test2)"
      ],
      "metadata": {
        "id": "PzraQo11RVA1"
      },
      "execution_count": null,
      "outputs": []
    },
    {
      "cell_type": "code",
      "source": [
        "#서포트벡터 분류분석으로 학습한 모델 평가\n",
        "from sklearn.metrics import roc_auc_score\n",
        "print(roc_auc_score(y_test2, y_test2_predicted))"
      ],
      "metadata": {
        "colab": {
          "base_uri": "https://localhost:8080/"
        },
        "id": "AEmvzQoNWyp9",
        "outputId": "957c8c80-46de-41b4-f622-798cdddac1a1"
      },
      "execution_count": null,
      "outputs": [
        {
          "output_type": "stream",
          "name": "stdout",
          "text": [
            "0.6904761904761906\n"
          ]
        }
      ]
    },
    {
      "cell_type": "code",
      "source": [
        "#배깅 분류로 모델학습/테스트 데이터의 종속변수 예측\n",
        "from sklearn.ensemble import BaggingClassifier\n",
        "model = BaggingClassifier()\n",
        "model.fit(x_train2, y_train2)\n",
        "y_test2_predicted = model.predict(x_test2)"
      ],
      "metadata": {
        "id": "tWV8c88xWys1"
      },
      "execution_count": null,
      "outputs": []
    },
    {
      "cell_type": "code",
      "source": [
        "#평가하기\n",
        "from sklearn.metrics import roc_auc_score\n",
        "print(roc_auc_score(y_test2, y_test2_predicted))"
      ],
      "metadata": {
        "colab": {
          "base_uri": "https://localhost:8080/"
        },
        "id": "ehS8FjCsWyu5",
        "outputId": "f3fd73a8-59c9-4207-fff0-2056dfd21559"
      },
      "execution_count": null,
      "outputs": [
        {
          "output_type": "stream",
          "name": "stdout",
          "text": [
            "0.6190476190476191\n"
          ]
        }
      ]
    },
    {
      "cell_type": "code",
      "source": [
        "#k최근접이웃(knn)분류로 모델학습, 테스트 데이터 종속변수 예측\n",
        "from sklearn.neighbors import KNeighborsClassifier\n",
        "model = KNeighborsClassifier()\n",
        "model.fit(x_train2, y_train2)\n",
        "y_test2_predicted = model.predict(x_test2)"
      ],
      "metadata": {
        "id": "UHShT35tRVDO"
      },
      "execution_count": null,
      "outputs": []
    },
    {
      "cell_type": "code",
      "source": [
        "#모델 평가\n",
        "from sklearn.metrics import roc_auc_score\n",
        "print(roc_auc_score(y_test2, y_test2_predicted))"
      ],
      "metadata": {
        "colab": {
          "base_uri": "https://localhost:8080/"
        },
        "id": "iIZberxCX6eZ",
        "outputId": "4234c76e-79f7-4b00-9829-28b3b4019315"
      },
      "execution_count": null,
      "outputs": [
        {
          "output_type": "stream",
          "name": "stdout",
          "text": [
            "0.5238095238095238\n"
          ]
        }
      ]
    },
    {
      "cell_type": "code",
      "source": [
        "#다층퍼센트론 분류-MLP로 모델 학습/테스트 데이터 종속변수 예측\n",
        "from sklearn.neural_network import MLPClassifier\n",
        "model = MLPClassifier()\n",
        "model.fit(x_train2, y_train2)\n",
        "y_test2_predicted = model.predict(x_test2)"
      ],
      "metadata": {
        "id": "yUJK02bVRVFb"
      },
      "execution_count": null,
      "outputs": []
    },
    {
      "cell_type": "code",
      "source": [
        "#모델평가\n",
        "from sklearn.metrics import roc_auc_score\n",
        "roc_auc_score(y_test2, y_test2_predicted)\n"
      ],
      "metadata": {
        "colab": {
          "base_uri": "https://localhost:8080/"
        },
        "id": "TmEMTtjBQmKz",
        "outputId": "8546dcaa-7fe6-4ee7-97fe-cbd85abbaea2"
      },
      "execution_count": null,
      "outputs": [
        {
          "output_type": "execute_result",
          "data": {
            "text/plain": [
              "0.5952380952380953"
            ]
          },
          "metadata": {},
          "execution_count": 203
        }
      ]
    },
    {
      "cell_type": "code",
      "source": [
        "#2유형은 to_csv 로 제출해야되므로, 제출용 연습\n",
        "#먼저 변수 데이터 타입 확인\n",
        "print(type(y_test2_predicted))"
      ],
      "metadata": {
        "colab": {
          "base_uri": "https://localhost:8080/"
        },
        "id": "oGytXnhmQhww",
        "outputId": "627d42c1-cd68-42d0-998b-8f79e1f49163"
      },
      "execution_count": null,
      "outputs": [
        {
          "output_type": "stream",
          "name": "stdout",
          "text": [
            "<class 'numpy.ndarray'>\n"
          ]
        }
      ]
    },
    {
      "cell_type": "code",
      "source": [
        "#제출할 변수를 데이터프레임으로 변환, csv 저장\n",
        "pd.DataFrame(y_test2_predicted).to_csv('123.csv', index =False)\n",
        "#to_csv함수에서 행 번호 포함시켜 저장하는 index=True 가 기본값임\n",
        "#행번호(인덱스) 제외하고 저장하려면 index=False"
      ],
      "metadata": {
        "id": "kRyrsBRDadgE"
      },
      "execution_count": null,
      "outputs": []
    },
    {
      "cell_type": "code",
      "source": [],
      "metadata": {
        "id": "mIauDIb_adkP"
      },
      "execution_count": null,
      "outputs": []
    }
  ]
}