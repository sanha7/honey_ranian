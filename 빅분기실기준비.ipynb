{
  "nbformat": 4,
  "nbformat_minor": 0,
  "metadata": {
    "colab": {
      "provenance": [],
      "collapsed_sections": [],
      "authorship_tag": "ABX9TyPpp1LRTe/theF8wrksXwT5",
      "include_colab_link": true
    },
    "kernelspec": {
      "name": "python3",
      "display_name": "Python 3"
    },
    "language_info": {
      "name": "python"
    }
  },
  "cells": [
    {
      "cell_type": "markdown",
      "metadata": {
        "id": "view-in-github",
        "colab_type": "text"
      },
      "source": [
        "<a href=\"https://colab.research.google.com/github/sanha7/honey_ranian/blob/main/%EB%B9%85%EB%B6%84%EA%B8%B0%EC%8B%A4%EA%B8%B0%EC%A4%80%EB%B9%84.ipynb\" target=\"_parent\"><img src=\"https://colab.research.google.com/assets/colab-badge.svg\" alt=\"Open In Colab\"/></a>"
      ]
    },
    {
      "cell_type": "code",
      "execution_count": null,
      "metadata": {
        "colab": {
          "base_uri": "https://localhost:8080/"
        },
        "id": "-jVfjHyUs5_2",
        "outputId": "99437f0e-96a4-4fe9-c757-f8f297bb6f6d"
      },
      "outputs": [
        {
          "output_type": "stream",
          "name": "stdout",
          "text": [
            "          Unnamed: 0   mpg  cyl   disp   hp  drat     wt   qsec  vs      am  \\\n",
            "0          Mazda RX4  21.0  6.0  160.0  110  3.90  2.620  16.46   0  manual   \n",
            "1      Mazda RX4 Wag  21.0  6.0  160.0  110  3.90  2.875  17.02   0  manual   \n",
            "2         Datsun 710  22.8  4.0  108.0   93  3.85  2.320  18.61   1  manual   \n",
            "3     Hornet 4 Drive  21.4  6.0  258.0  110  3.08  3.215   0.10   1    auto   \n",
            "4  Hornet Sportabout  18.7  8.0  360.0  175  3.15  3.440  17.02   0    auto   \n",
            "\n",
            "  gear  carb  \n",
            "0    4     4  \n",
            "1    4     4  \n",
            "2    4     1  \n",
            "3    3     1  \n",
            "4    3     2  \n"
          ]
        }
      ],
      "source": [
        "import pandas as pd\n",
        "data = pd.read_csv('mtcars.csv')\n",
        "print(data.head())"
      ]
    },
    {
      "cell_type": "code",
      "source": [
        "print(data.shape)"
      ],
      "metadata": {
        "colab": {
          "base_uri": "https://localhost:8080/"
        },
        "id": "jMsJx5Lus8zn",
        "outputId": "14281475-4a3e-4508-f4ee-020e887b6f33"
      },
      "execution_count": null,
      "outputs": [
        {
          "output_type": "stream",
          "name": "stdout",
          "text": [
            "(32, 12)\n"
          ]
        }
      ]
    },
    {
      "cell_type": "code",
      "source": [
        "print(type(data))"
      ],
      "metadata": {
        "colab": {
          "base_uri": "https://localhost:8080/"
        },
        "id": "Se-hxPVLs82N",
        "outputId": "5f7e0bfb-c6ba-49e0-f441-ac95de66074c"
      },
      "execution_count": null,
      "outputs": [
        {
          "output_type": "stream",
          "name": "stdout",
          "text": [
            "<class 'pandas.core.frame.DataFrame'>\n"
          ]
        }
      ]
    },
    {
      "cell_type": "code",
      "source": [
        "print(data.columns)"
      ],
      "metadata": {
        "colab": {
          "base_uri": "https://localhost:8080/"
        },
        "id": "Fh8RY1ZP2pdM",
        "outputId": "0bbceced-480d-4e44-a5c6-39b2e8410a16"
      },
      "execution_count": null,
      "outputs": [
        {
          "output_type": "stream",
          "name": "stdout",
          "text": [
            "Index(['Unnamed: 0', 'mpg', 'cyl', 'disp', 'hp', 'drat', 'wt', 'qsec', 'vs',\n",
            "       'am', 'gear', 'carb'],\n",
            "      dtype='object')\n"
          ]
        }
      ]
    },
    {
      "cell_type": "code",
      "source": [
        "print(data.describe())"
      ],
      "metadata": {
        "colab": {
          "base_uri": "https://localhost:8080/"
        },
        "id": "yy3rIBOZ2pfr",
        "outputId": "2f8560b0-3734-4354-eff7-2f7db3a95463"
      },
      "execution_count": null,
      "outputs": [
        {
          "output_type": "stream",
          "name": "stdout",
          "text": [
            "             mpg        cyl        disp          hp       drat         wt  \\\n",
            "count  32.000000  30.000000   32.000000   32.000000  32.000000  32.000000   \n",
            "mean   20.090625   7.600000  230.721875  146.687500   3.596563   3.217250   \n",
            "std     6.026948   8.194195  123.938694   68.562868   0.534679   0.978457   \n",
            "min    10.400000   4.000000   71.100000   52.000000   2.760000   1.513000   \n",
            "25%    15.425000   4.000000  120.825000   96.500000   3.080000   2.581250   \n",
            "50%    19.200000   6.000000  196.300000  123.000000   3.695000   3.325000   \n",
            "75%    22.800000   8.000000  326.000000  180.000000   3.920000   3.610000   \n",
            "max    33.900000  50.000000  472.000000  335.000000   4.930000   5.424000   \n",
            "\n",
            "             qsec         vs     carb  \n",
            "count   31.000000  32.000000  32.0000  \n",
            "mean    19.866774   0.437500   2.8125  \n",
            "std     15.310469   0.504016   1.6152  \n",
            "min      0.100000   0.000000   1.0000  \n",
            "25%     16.785000   0.000000   2.0000  \n",
            "50%     17.600000   0.000000   2.0000  \n",
            "75%     18.755000   1.000000   4.0000  \n",
            "max    100.000000   1.000000   8.0000  \n"
          ]
        }
      ]
    },
    {
      "cell_type": "code",
      "source": [
        "print(data['hp'].describe())"
      ],
      "metadata": {
        "colab": {
          "base_uri": "https://localhost:8080/"
        },
        "id": "7Ixq10z42ph8",
        "outputId": "d56234fd-a95b-4458-f859-9db0a6831b39"
      },
      "execution_count": null,
      "outputs": [
        {
          "output_type": "stream",
          "name": "stdout",
          "text": [
            "count     32.000000\n",
            "mean     146.687500\n",
            "std       68.562868\n",
            "min       52.000000\n",
            "25%       96.500000\n",
            "50%      123.000000\n",
            "75%      180.000000\n",
            "max      335.000000\n",
            "Name: hp, dtype: float64\n"
          ]
        }
      ]
    },
    {
      "cell_type": "code",
      "source": [
        "print(data['am'].unique())"
      ],
      "metadata": {
        "colab": {
          "base_uri": "https://localhost:8080/"
        },
        "id": "HSXvrIsis85l",
        "outputId": "4594625e-d2b1-4b78-aeb1-edc94bc12b69"
      },
      "execution_count": null,
      "outputs": [
        {
          "output_type": "stream",
          "name": "stdout",
          "text": [
            "['manual' 'auto']\n"
          ]
        }
      ]
    },
    {
      "cell_type": "code",
      "source": [
        "print(data.info())"
      ],
      "metadata": {
        "colab": {
          "base_uri": "https://localhost:8080/"
        },
        "id": "-_9L_Ey-s89v",
        "outputId": "65162ff3-6eb4-4cdf-ad20-a19e04f634d0"
      },
      "execution_count": null,
      "outputs": [
        {
          "output_type": "stream",
          "name": "stdout",
          "text": [
            "<class 'pandas.core.frame.DataFrame'>\n",
            "RangeIndex: 32 entries, 0 to 31\n",
            "Data columns (total 12 columns):\n",
            " #   Column      Non-Null Count  Dtype  \n",
            "---  ------      --------------  -----  \n",
            " 0   Unnamed: 0  32 non-null     object \n",
            " 1   mpg         32 non-null     float64\n",
            " 2   cyl         30 non-null     float64\n",
            " 3   disp        32 non-null     float64\n",
            " 4   hp          32 non-null     int64  \n",
            " 5   drat        32 non-null     float64\n",
            " 6   wt          32 non-null     float64\n",
            " 7   qsec        31 non-null     float64\n",
            " 8   vs          32 non-null     int64  \n",
            " 9   am          32 non-null     object \n",
            " 10  gear        32 non-null     object \n",
            " 11  carb        32 non-null     int64  \n",
            "dtypes: float64(6), int64(3), object(3)\n",
            "memory usage: 3.1+ KB\n",
            "None\n"
          ]
        }
      ]
    },
    {
      "cell_type": "code",
      "source": [
        "#독립변수/종속변수 분리하기\n",
        "X =data.drop(columns='mpg') #독립변수-mpg를제외한 요소들\n",
        "Y =data['mpg'] #mpg를 종속변수로"
      ],
      "metadata": {
        "id": "VOZ2fhjx7ouN"
      },
      "execution_count": null,
      "outputs": []
    },
    {
      "cell_type": "code",
      "source": [
        "print(X.head())"
      ],
      "metadata": {
        "colab": {
          "base_uri": "https://localhost:8080/"
        },
        "id": "Obu0mgx27owr",
        "outputId": "e53c4709-c533-4f82-b4ed-0fbafebf450d"
      },
      "execution_count": null,
      "outputs": [
        {
          "output_type": "stream",
          "name": "stdout",
          "text": [
            "          Unnamed: 0  cyl   disp   hp  drat     wt   qsec  vs      am gear  \\\n",
            "0          Mazda RX4  6.0  160.0  110  3.90  2.620  16.46   0  manual    4   \n",
            "1      Mazda RX4 Wag  6.0  160.0  110  3.90  2.875  17.02   0  manual    4   \n",
            "2         Datsun 710  4.0  108.0   93  3.85  2.320  18.61   1  manual    4   \n",
            "3     Hornet 4 Drive  6.0  258.0  110  3.08  3.215   0.10   1    auto    3   \n",
            "4  Hornet Sportabout  8.0  360.0  175  3.15  3.440  17.02   0    auto    3   \n",
            "\n",
            "   carb  \n",
            "0     4  \n",
            "1     4  \n",
            "2     1  \n",
            "3     1  \n",
            "4     2  \n"
          ]
        }
      ]
    },
    {
      "cell_type": "code",
      "source": [
        "print(Y.head())"
      ],
      "metadata": {
        "colab": {
          "base_uri": "https://localhost:8080/"
        },
        "id": "tKju6dy37o0c",
        "outputId": "fde9b448-b935-4425-d894-5f5fdf04048d"
      },
      "execution_count": null,
      "outputs": [
        {
          "output_type": "stream",
          "name": "stdout",
          "text": [
            "0    21.0\n",
            "1    21.0\n",
            "2    22.8\n",
            "3    21.4\n",
            "4    18.7\n",
            "Name: mpg, dtype: float64\n"
          ]
        }
      ]
    },
    {
      "cell_type": "code",
      "source": [
        "X= X.iloc[:, 1:] #불필요한 0번째열 제거해서 새 변수 생성"
      ],
      "metadata": {
        "id": "SjMvvAQCknkw"
      },
      "execution_count": null,
      "outputs": []
    },
    {
      "cell_type": "code",
      "source": [
        "print(X.head())"
      ],
      "metadata": {
        "id": "GGe2e_2lknm-",
        "colab": {
          "base_uri": "https://localhost:8080/"
        },
        "outputId": "47e9489a-28be-425c-91a6-411f1af0175b"
      },
      "execution_count": null,
      "outputs": [
        {
          "output_type": "stream",
          "name": "stdout",
          "text": [
            "   cyl   disp   hp  drat     wt   qsec  vs      am gear  carb\n",
            "0  6.0  160.0  110  3.90  2.620  16.46   0  manual    4     4\n",
            "1  6.0  160.0  110  3.90  2.875  17.02   0  manual    4     4\n",
            "2  4.0  108.0   93  3.85  2.320  18.61   1  manual    4     1\n",
            "3  6.0  258.0  110  3.08  3.215   0.10   1    auto    3     1\n",
            "4  8.0  360.0  175  3.15  3.440  17.02   0    auto    3     2\n"
          ]
        }
      ]
    },
    {
      "cell_type": "code",
      "source": [
        "X.isnull().head(3)"
      ],
      "metadata": {
        "colab": {
          "base_uri": "https://localhost:8080/",
          "height": 143
        },
        "id": "-rEsxiToNSuk",
        "outputId": "4b31a416-938d-400b-8b3e-9df7d55823c3"
      },
      "execution_count": null,
      "outputs": [
        {
          "output_type": "execute_result",
          "data": {
            "text/plain": [
              "     cyl   disp     hp   drat     wt   qsec     vs     am   gear   carb\n",
              "0  False  False  False  False  False  False  False  False  False  False\n",
              "1  False  False  False  False  False  False  False  False  False  False\n",
              "2  False  False  False  False  False  False  False  False  False  False"
            ],
            "text/html": [
              "\n",
              "  <div id=\"df-1cd48cc4-9f8e-42fd-a42f-1a1e55357978\">\n",
              "    <div class=\"colab-df-container\">\n",
              "      <div>\n",
              "<style scoped>\n",
              "    .dataframe tbody tr th:only-of-type {\n",
              "        vertical-align: middle;\n",
              "    }\n",
              "\n",
              "    .dataframe tbody tr th {\n",
              "        vertical-align: top;\n",
              "    }\n",
              "\n",
              "    .dataframe thead th {\n",
              "        text-align: right;\n",
              "    }\n",
              "</style>\n",
              "<table border=\"1\" class=\"dataframe\">\n",
              "  <thead>\n",
              "    <tr style=\"text-align: right;\">\n",
              "      <th></th>\n",
              "      <th>cyl</th>\n",
              "      <th>disp</th>\n",
              "      <th>hp</th>\n",
              "      <th>drat</th>\n",
              "      <th>wt</th>\n",
              "      <th>qsec</th>\n",
              "      <th>vs</th>\n",
              "      <th>am</th>\n",
              "      <th>gear</th>\n",
              "      <th>carb</th>\n",
              "    </tr>\n",
              "  </thead>\n",
              "  <tbody>\n",
              "    <tr>\n",
              "      <th>0</th>\n",
              "      <td>False</td>\n",
              "      <td>False</td>\n",
              "      <td>False</td>\n",
              "      <td>False</td>\n",
              "      <td>False</td>\n",
              "      <td>False</td>\n",
              "      <td>False</td>\n",
              "      <td>False</td>\n",
              "      <td>False</td>\n",
              "      <td>False</td>\n",
              "    </tr>\n",
              "    <tr>\n",
              "      <th>1</th>\n",
              "      <td>False</td>\n",
              "      <td>False</td>\n",
              "      <td>False</td>\n",
              "      <td>False</td>\n",
              "      <td>False</td>\n",
              "      <td>False</td>\n",
              "      <td>False</td>\n",
              "      <td>False</td>\n",
              "      <td>False</td>\n",
              "      <td>False</td>\n",
              "    </tr>\n",
              "    <tr>\n",
              "      <th>2</th>\n",
              "      <td>False</td>\n",
              "      <td>False</td>\n",
              "      <td>False</td>\n",
              "      <td>False</td>\n",
              "      <td>False</td>\n",
              "      <td>False</td>\n",
              "      <td>False</td>\n",
              "      <td>False</td>\n",
              "      <td>False</td>\n",
              "      <td>False</td>\n",
              "    </tr>\n",
              "  </tbody>\n",
              "</table>\n",
              "</div>\n",
              "      <button class=\"colab-df-convert\" onclick=\"convertToInteractive('df-1cd48cc4-9f8e-42fd-a42f-1a1e55357978')\"\n",
              "              title=\"Convert this dataframe to an interactive table.\"\n",
              "              style=\"display:none;\">\n",
              "        \n",
              "  <svg xmlns=\"http://www.w3.org/2000/svg\" height=\"24px\"viewBox=\"0 0 24 24\"\n",
              "       width=\"24px\">\n",
              "    <path d=\"M0 0h24v24H0V0z\" fill=\"none\"/>\n",
              "    <path d=\"M18.56 5.44l.94 2.06.94-2.06 2.06-.94-2.06-.94-.94-2.06-.94 2.06-2.06.94zm-11 1L8.5 8.5l.94-2.06 2.06-.94-2.06-.94L8.5 2.5l-.94 2.06-2.06.94zm10 10l.94 2.06.94-2.06 2.06-.94-2.06-.94-.94-2.06-.94 2.06-2.06.94z\"/><path d=\"M17.41 7.96l-1.37-1.37c-.4-.4-.92-.59-1.43-.59-.52 0-1.04.2-1.43.59L10.3 9.45l-7.72 7.72c-.78.78-.78 2.05 0 2.83L4 21.41c.39.39.9.59 1.41.59.51 0 1.02-.2 1.41-.59l7.78-7.78 2.81-2.81c.8-.78.8-2.07 0-2.86zM5.41 20L4 18.59l7.72-7.72 1.47 1.35L5.41 20z\"/>\n",
              "  </svg>\n",
              "      </button>\n",
              "      \n",
              "  <style>\n",
              "    .colab-df-container {\n",
              "      display:flex;\n",
              "      flex-wrap:wrap;\n",
              "      gap: 12px;\n",
              "    }\n",
              "\n",
              "    .colab-df-convert {\n",
              "      background-color: #E8F0FE;\n",
              "      border: none;\n",
              "      border-radius: 50%;\n",
              "      cursor: pointer;\n",
              "      display: none;\n",
              "      fill: #1967D2;\n",
              "      height: 32px;\n",
              "      padding: 0 0 0 0;\n",
              "      width: 32px;\n",
              "    }\n",
              "\n",
              "    .colab-df-convert:hover {\n",
              "      background-color: #E2EBFA;\n",
              "      box-shadow: 0px 1px 2px rgba(60, 64, 67, 0.3), 0px 1px 3px 1px rgba(60, 64, 67, 0.15);\n",
              "      fill: #174EA6;\n",
              "    }\n",
              "\n",
              "    [theme=dark] .colab-df-convert {\n",
              "      background-color: #3B4455;\n",
              "      fill: #D2E3FC;\n",
              "    }\n",
              "\n",
              "    [theme=dark] .colab-df-convert:hover {\n",
              "      background-color: #434B5C;\n",
              "      box-shadow: 0px 1px 3px 1px rgba(0, 0, 0, 0.15);\n",
              "      filter: drop-shadow(0px 1px 2px rgba(0, 0, 0, 0.3));\n",
              "      fill: #FFFFFF;\n",
              "    }\n",
              "  </style>\n",
              "\n",
              "      <script>\n",
              "        const buttonEl =\n",
              "          document.querySelector('#df-1cd48cc4-9f8e-42fd-a42f-1a1e55357978 button.colab-df-convert');\n",
              "        buttonEl.style.display =\n",
              "          google.colab.kernel.accessAllowed ? 'block' : 'none';\n",
              "\n",
              "        async function convertToInteractive(key) {\n",
              "          const element = document.querySelector('#df-1cd48cc4-9f8e-42fd-a42f-1a1e55357978');\n",
              "          const dataTable =\n",
              "            await google.colab.kernel.invokeFunction('convertToInteractive',\n",
              "                                                     [key], {});\n",
              "          if (!dataTable) return;\n",
              "\n",
              "          const docLinkHtml = 'Like what you see? Visit the ' +\n",
              "            '<a target=\"_blank\" href=https://colab.research.google.com/notebooks/data_table.ipynb>data table notebook</a>'\n",
              "            + ' to learn more about interactive tables.';\n",
              "          element.innerHTML = '';\n",
              "          dataTable['output_type'] = 'display_data';\n",
              "          await google.colab.output.renderOutput(dataTable, element);\n",
              "          const docLink = document.createElement('div');\n",
              "          docLink.innerHTML = docLinkHtml;\n",
              "          element.appendChild(docLink);\n",
              "        }\n",
              "      </script>\n",
              "    </div>\n",
              "  </div>\n",
              "  "
            ]
          },
          "metadata": {},
          "execution_count": 22
        }
      ]
    },
    {
      "cell_type": "code",
      "source": [
        "#전체 결측치여부값 모두 더해 결측치 개수 세기\n",
        "print(X.isnull().sum())"
      ],
      "metadata": {
        "colab": {
          "base_uri": "https://localhost:8080/"
        },
        "id": "E-az-DhbNSyN",
        "outputId": "bad37860-71b2-4ee5-8d1e-d4c9d1fe23f2"
      },
      "execution_count": null,
      "outputs": [
        {
          "output_type": "stream",
          "name": "stdout",
          "text": [
            "cyl     2\n",
            "disp    0\n",
            "hp      0\n",
            "drat    0\n",
            "wt      0\n",
            "qsec    1\n",
            "vs      0\n",
            "am      0\n",
            "gear    0\n",
            "carb    0\n",
            "dtype: int64\n"
          ]
        }
      ]
    },
    {
      "cell_type": "code",
      "source": [
        "#평균 구해서 변수에 넣기\n",
        "X_cyl_mean = X['cyl'].mean()"
      ],
      "metadata": {
        "id": "R1DhTZIfPO00"
      },
      "execution_count": null,
      "outputs": []
    },
    {
      "cell_type": "code",
      "source": [
        "print(X_cyl_mean)"
      ],
      "metadata": {
        "colab": {
          "base_uri": "https://localhost:8080/"
        },
        "id": "tqablOJDPO3L",
        "outputId": "449bf522-3c98-413d-916c-12566a0dab62"
      },
      "execution_count": null,
      "outputs": [
        {
          "output_type": "stream",
          "name": "stdout",
          "text": [
            "7.6\n"
          ]
        }
      ]
    },
    {
      "cell_type": "code",
      "source": [
        "#cyl열의 결측치를 X_cyl_mean 값으로 채우고, 다시 cyl열에 저장\n",
        "X['cyl'] = X['cyl'].fillna(X_cyl_mean)"
      ],
      "metadata": {
        "id": "kShbYHIpknpW"
      },
      "execution_count": null,
      "outputs": []
    },
    {
      "cell_type": "code",
      "source": [
        "print(X.isnull().sum())"
      ],
      "metadata": {
        "colab": {
          "base_uri": "https://localhost:8080/"
        },
        "id": "AwnN8dmKPfyL",
        "outputId": "ddf8000b-f33f-4b74-fc7f-adc053ba27da"
      },
      "execution_count": null,
      "outputs": [
        {
          "output_type": "stream",
          "name": "stdout",
          "text": [
            "cyl     0\n",
            "disp    0\n",
            "hp      0\n",
            "drat    0\n",
            "wt      0\n",
            "qsec    1\n",
            "vs      0\n",
            "am      0\n",
            "gear    0\n",
            "carb    0\n",
            "dtype: int64\n"
          ]
        }
      ]
    },
    {
      "cell_type": "code",
      "source": [
        "X_qsec_median = X['qsec'].median()"
      ],
      "metadata": {
        "id": "7eR_blIKPf0r"
      },
      "execution_count": null,
      "outputs": []
    },
    {
      "cell_type": "code",
      "source": [
        "print(X_qsec_median)"
      ],
      "metadata": {
        "id": "TmjVNbE1Pf2T"
      },
      "execution_count": null,
      "outputs": []
    },
    {
      "cell_type": "code",
      "source": [
        "X['qsec'] = X['qsec'].fillna(X_qsec_median)"
      ],
      "metadata": {
        "id": "-BWmIvZ7QHkk"
      },
      "execution_count": null,
      "outputs": []
    },
    {
      "cell_type": "code",
      "source": [
        "#중위값으로 잘 대체되었는지 확인하려면\n",
        "#qsec열의결측치 개수 확인\n",
        "print(X['qsec'].isnull().sum())"
      ],
      "metadata": {
        "id": "9HWUWi57QHqT"
      },
      "execution_count": null,
      "outputs": []
    },
    {
      "cell_type": "code",
      "source": [
        "#qsec 열의 결측치를 일괄 0으로 바꾸기\n",
        "X['qsec'].fillna(0)"
      ],
      "metadata": {
        "id": "Qsfem3iNSRyT"
      },
      "execution_count": null,
      "outputs": []
    },
    {
      "cell_type": "code",
      "source": [
        "#gear 열의 구성값 보이기-특수문자 확인 가능\n",
        "print(X['gear'].unique())"
      ],
      "metadata": {
        "id": "PpwcEHPiSi1K"
      },
      "execution_count": null,
      "outputs": []
    },
    {
      "cell_type": "code",
      "source": [
        "#특수문자붙은걸 정상적인 값으로 되돌려주기\n",
        "print(X['gear'].replace('*3', '3').replace('*5','5'))"
      ],
      "metadata": {
        "id": "T4B2a31sS7hy"
      },
      "execution_count": null,
      "outputs": []
    },
    {
      "cell_type": "code",
      "source": [],
      "metadata": {
        "id": "myp7y614TNKf"
      },
      "execution_count": null,
      "outputs": []
    },
    {
      "cell_type": "code",
      "source": [
        "#이렇게 변경된 값을 gear열에 다시 저장\n",
        "X['gear'] = X['gear'].replace('*3','3').replace('*5','5')"
      ],
      "metadata": {
        "id": "kS2LWGhUTNMz"
      },
      "execution_count": null,
      "outputs": []
    },
    {
      "cell_type": "code",
      "source": [
        "print(X['gear'].unique())"
      ],
      "metadata": {
        "id": "pGVT9EwtTfur"
      },
      "execution_count": null,
      "outputs": []
    },
    {
      "cell_type": "code",
      "source": [
        "#사분범위 활용해 이상치 제거하기 \n",
        "#25%, 75% 열을 활용하기 위해 변수 생성하기\n",
        "X_describe = X.describe()\n",
        "print(X_describe)"
      ],
      "metadata": {
        "id": "WsxFRkt7TfxK"
      },
      "execution_count": null,
      "outputs": []
    },
    {
      "cell_type": "code",
      "source": [
        "#X_describe변수에서 3사분위, 1사분위에 해당하는 열을 '값으로' 추출\n",
        "print(X_describe.loc['75%'], X_describe.loc['25%'])"
      ],
      "metadata": {
        "id": "lbCNU55BVh3j"
      },
      "execution_count": null,
      "outputs": []
    },
    {
      "cell_type": "code",
      "source": [
        "#3사분-1사분해야 사분범위니까 변수 생성해서 사분범위 넣기\n",
        "X_iqr = X_describe.loc['75%'] - X_describe.loc['25%']\n",
        "print(X_iqr) #사분범위 변수 생성"
      ],
      "metadata": {
        "id": "q6fjO3OyVh6K"
      },
      "execution_count": null,
      "outputs": []
    },
    {
      "cell_type": "code",
      "source": [
        "#이상치 기준=1사분위-1.5*IQR, 3사분위+1.5*IQR\n",
        "print(X_describe.loc['75%']+(1.5*X_iqr)) \n",
        "#지금 나온애들이 최대 경계값임.(cyl은 14넘으면 이상치인것임)"
      ],
      "metadata": {
        "id": "Skc9zEjdV6Zx"
      },
      "execution_count": null,
      "outputs": []
    },
    {
      "cell_type": "code",
      "source": [
        "#아까 만든  통계량 변수에서 최대값을 보고, 이상치 여부를 판단해봄\n",
        "print(X_describe.loc['max'])"
      ],
      "metadata": {
        "id": "Mo5fvsmhWbQ6"
      },
      "execution_count": null,
      "outputs": []
    },
    {
      "cell_type": "code",
      "source": [
        "#cyl열 값은 14넘어서면 이상치이므로, 초과하는 값 추출해보기\n",
        "print(X.loc[X['cyl']>14])\n",
        "#결과, 14행에 50인거 하나 나옴,"
      ],
      "metadata": {
        "id": "iwlhOvGvWbTh"
      },
      "execution_count": null,
      "outputs": []
    },
    {
      "cell_type": "code",
      "source": [
        "#나온애를(이상치를) 14로 변경해주기-14행 cyl열이었음\n",
        "X.loc[14,'cyl']=14"
      ],
      "metadata": {
        "id": "BmSZsGkSV6cJ"
      },
      "execution_count": null,
      "outputs": []
    },
    {
      "cell_type": "code",
      "source": [
        "X.loc[14,'cyl']"
      ],
      "metadata": {
        "id": "12FspH4ZYDVK"
      },
      "execution_count": null,
      "outputs": []
    },
    {
      "cell_type": "code",
      "source": [
        "print(X.loc[X['hp']>305.25])"
      ],
      "metadata": {
        "id": "gaVJ0-GfYDXh"
      },
      "execution_count": null,
      "outputs": []
    },
    {
      "cell_type": "code",
      "source": [
        "X.loc[30,'hp']=305.25"
      ],
      "metadata": {
        "id": "2KO-pxySYwBC"
      },
      "execution_count": null,
      "outputs": []
    },
    {
      "cell_type": "code",
      "source": [
        "X.loc[30,'hp']"
      ],
      "metadata": {
        "id": "QSuZxcTjYwDp"
      },
      "execution_count": null,
      "outputs": []
    },
    {
      "cell_type": "code",
      "source": [
        "#이번엔 최소경계값(1사분-1.5*IQR)구해보기\n",
        "print(X_describe.loc['25%']-(X_iqr*1.5))\n",
        "#이것도 안되면 이상치인거임"
      ],
      "metadata": {
        "id": "nqrbgEDWY_ex"
      },
      "execution_count": null,
      "outputs": []
    },
    {
      "cell_type": "code",
      "source": [
        "#최솟값 확인하기\n",
        "print(X_describe.loc['min'])"
      ],
      "metadata": {
        "id": "ekBzcdjVY_uB"
      },
      "execution_count": null,
      "outputs": []
    },
    {
      "cell_type": "code",
      "source": [
        "#data 와 column을 전달할때 이상값의 정보를 출력해주는 outlier 함수 작성\n",
        "def outlier(data,column):\n",
        "  mean = data[column].mean()\n",
        "  std = data[column].std()\n",
        "  lowest = mean -(std*1.5)\n",
        "  highest = mean + (std*1.5)\n",
        "  print('최소경계값 :', lowest, '최대경계값 : ', highest)\n",
        "  outlier_index = data[column][(data[column]<lowest)  #이상치의 위치확인\n",
        "                               |(data[column]>highest)].index\n",
        "  return outlier_index"
      ],
      "metadata": {
        "id": "Ja9mhw2esvp8"
      },
      "execution_count": null,
      "outputs": []
    },
    {
      "cell_type": "code",
      "source": [
        "print(outlier(X, 'qsec'))\n",
        "#24 인덱스(행)에 이상치 있음"
      ],
      "metadata": {
        "id": "UFzNBjdYsvsK"
      },
      "execution_count": null,
      "outputs": []
    },
    {
      "cell_type": "code",
      "source": [
        "#실제로 확인\n",
        "print(X.loc[24,'qsec'])"
      ],
      "metadata": {
        "colab": {
          "base_uri": "https://localhost:8080/",
          "height": 192
        },
        "id": "mCBAd0HAsvwS",
        "outputId": "65128164-0e9e-493f-abd0-ee54916c0d0a"
      },
      "execution_count": null,
      "outputs": [
        {
          "output_type": "error",
          "ename": "NameError",
          "evalue": "ignored",
          "traceback": [
            "\u001b[0;31m---------------------------------------------------------------------------\u001b[0m",
            "\u001b[0;31mNameError\u001b[0m                                 Traceback (most recent call last)",
            "\u001b[0;32m<ipython-input-6-6f24f5aeacfa>\u001b[0m in \u001b[0;36m<module>\u001b[0;34m\u001b[0m\n\u001b[1;32m      1\u001b[0m \u001b[0;31m#실제로 확인\u001b[0m\u001b[0;34m\u001b[0m\u001b[0;34m\u001b[0m\u001b[0;34m\u001b[0m\u001b[0m\n\u001b[0;32m----> 2\u001b[0;31m \u001b[0mprint\u001b[0m\u001b[0;34m(\u001b[0m\u001b[0mX\u001b[0m\u001b[0;34m.\u001b[0m\u001b[0mloc\u001b[0m\u001b[0;34m[\u001b[0m\u001b[0;36m24\u001b[0m\u001b[0;34m,\u001b[0m\u001b[0;34m'qsec'\u001b[0m\u001b[0;34m]\u001b[0m\u001b[0;34m)\u001b[0m\u001b[0;34m\u001b[0m\u001b[0;34m\u001b[0m\u001b[0m\n\u001b[0m",
            "\u001b[0;31mNameError\u001b[0m: name 'X' is not defined"
          ]
        }
      ]
    },
    {
      "cell_type": "code",
      "source": [
        "#이상값을 평균+(표준편차*1.5)로 대치\n",
        "X.loc[24,'qsec'] =42.396\n",
        "print(X.loc[24,'qsec'])"
      ],
      "metadata": {
        "id": "yAWA71xlsvyq"
      },
      "execution_count": null,
      "outputs": []
    },
    {
      "cell_type": "code",
      "source": [
        "print(outlier(X,'carb'))"
      ],
      "metadata": {
        "id": "fBuFkUpixMeW"
      },
      "execution_count": null,
      "outputs": []
    },
    {
      "cell_type": "code",
      "source": [
        "print(X.loc[[29,30],'carb'])"
      ],
      "metadata": {
        "id": "HYdaWDd4xqFu"
      },
      "execution_count": null,
      "outputs": []
    },
    {
      "cell_type": "code",
      "source": [
        "#저 이상값 두개를 최대경계값인 5.235로 대치\n",
        "X.loc[29,'carb']= 5.235\n",
        "X.loc[30,'carb']= 5.235\n",
        "print(X.loc[[29,30],'carb'])"
      ],
      "metadata": {
        "id": "r2xfibUzxqIK"
      },
      "execution_count": null,
      "outputs": []
    },
    {
      "cell_type": "code",
      "source": [
        "#데이터스케일링 (Standard Scaling, MinMax Scaling, Robust Scaling)"
      ],
      "metadata": {
        "id": "BqCBtMl1xMhD"
      },
      "execution_count": null,
      "outputs": []
    },
    {
      "cell_type": "code",
      "source": [
        "from sklearn.preprocessing import StandardScaler"
      ],
      "metadata": {
        "id": "VURaeG5wxMjT"
      },
      "execution_count": null,
      "outputs": []
    },
    {
      "cell_type": "code",
      "source": [
        "#변환할 qsec 열만 추출해서 변수에 저장\n",
        "temp = X[['qsec']]"
      ],
      "metadata": {
        "id": "kGiXR6oJ2ihY"
      },
      "execution_count": null,
      "outputs": []
    },
    {
      "cell_type": "code",
      "source": [
        "#스케일링 객체 생성-StandardScaler 함수로\n",
        "scaler = StandardScaler()\n",
        "print(scaler.fit_transform(temp)) #fit_transform 명령으로 temp 변수의  크기변환요청"
      ],
      "metadata": {
        "id": "uwbwOooA2qHI"
      },
      "execution_count": null,
      "outputs": []
    },
    {
      "cell_type": "code",
      "source": [
        "#표준크기변환 수행한 결과를 변수에 저장\n",
        "#이 결과는 데이터프레임 타입이 아닌데(array), 쉽게 데이터 처리를 할 수 있는 데이터프레임으로 변경.\n",
        "qsec_s_scaler = pd.DataFrame(scaler.fit_transform(temp))"
      ],
      "metadata": {
        "id": "lbY3XfCm2qLP"
      },
      "execution_count": null,
      "outputs": []
    },
    {
      "cell_type": "code",
      "source": [
        "print(qsec_s_scaler.describe()) #mean은 0에 근사한값, std는 1에 근사한 값으로-정규분포의 형태"
      ],
      "metadata": {
        "id": "P9S1WaNd2qN8"
      },
      "execution_count": null,
      "outputs": []
    },
    {
      "cell_type": "code",
      "source": [
        "#Min-Max Scaler\n",
        "from sklearn.preprocessing import MinMaxScaler"
      ],
      "metadata": {
        "id": "k2k8HdB22iju"
      },
      "execution_count": null,
      "outputs": []
    },
    {
      "cell_type": "code",
      "source": [
        "temp = X[['qsec']]"
      ],
      "metadata": {
        "id": "Hmi0hODa4ARg"
      },
      "execution_count": null,
      "outputs": []
    },
    {
      "cell_type": "code",
      "source": [
        "scaler = MinMaxScaler() #스케일링 객체생성\n",
        "qsec_m_scaler = pd.DataFrame(scaler.fit_transform(temp)) #크기변환요청 후 변수에 넣고\n",
        "print(qsec_m_scaler)"
      ],
      "metadata": {
        "id": "EVGO6SVF4AT3"
      },
      "execution_count": null,
      "outputs": []
    },
    {
      "cell_type": "code",
      "source": [
        "print(qsec_m_scaler.describe())"
      ],
      "metadata": {
        "id": "eWCASMOx7b3C"
      },
      "execution_count": null,
      "outputs": []
    },
    {
      "cell_type": "code",
      "source": [
        "#RobustScaling\n",
        "from sklearn.preprocessing import RobustScaler"
      ],
      "metadata": {
        "id": "ls4RmL9E7b6Q"
      },
      "execution_count": null,
      "outputs": []
    },
    {
      "cell_type": "code",
      "source": [
        "temp = X[['qsec']]"
      ],
      "metadata": {
        "id": "HRyLahXA8OgE"
      },
      "execution_count": null,
      "outputs": []
    },
    {
      "cell_type": "code",
      "source": [
        "scaler = RobustScaler()\n",
        "qsec_r_scaler = pd.DataFrame(scaler.fit_transform(temp))\n",
        "print(qsec_r_scaler)"
      ],
      "metadata": {
        "id": "2watisJF8OjC"
      },
      "execution_count": null,
      "outputs": []
    },
    {
      "cell_type": "code",
      "source": [
        "print(qsec_r_scaler.describe()) #중앙값 0, 사분위수(75%-25%)는1의 범위로  변환됨"
      ],
      "metadata": {
        "id": "8-BfPFg-8OmD"
      },
      "execution_count": null,
      "outputs": []
    },
    {
      "cell_type": "code",
      "source": [
        "#데이터 타입 변경하기-범주형(object/string)과 연속형(int64/float64)가\n",
        "#적합하게 설정되었는지, 아니라면 astype()으로  타입을재설정"
      ],
      "metadata": {
        "id": "61AJwlo-7b_g"
      },
      "execution_count": null,
      "outputs": []
    },
    {
      "cell_type": "code",
      "source": [
        "#먼저 변수의 요약정보 확인\n",
        "print(X.info())"
      ],
      "metadata": {
        "id": "MVY02Lcj-KhI"
      },
      "execution_count": null,
      "outputs": []
    },
    {
      "cell_type": "code",
      "source": [
        "#gear 열에서 숫자를 나타내야 하는데 object로 돼있음.  int64로 변경하고 다시 저장\n",
        "X['gear']= X['gear'].astype('int64')\n",
        "#바꼈는지 확인\n",
        "X['gear'].dtype"
      ],
      "metadata": {
        "id": "b4Hl_0hi-KjO"
      },
      "execution_count": null,
      "outputs": []
    },
    {
      "cell_type": "code",
      "source": [
        "#인코딩 - 원핫인코딩/라벨인코딩"
      ],
      "metadata": {
        "id": "zk82UPL8BTl6"
      },
      "execution_count": null,
      "outputs": []
    },
    {
      "cell_type": "code",
      "source": [
        "print(X.head())"
      ],
      "metadata": {
        "id": "LVEQUg3qBTpR"
      },
      "execution_count": null,
      "outputs": []
    },
    {
      "cell_type": "code",
      "source": [
        "print(X['am'].unique())"
      ],
      "metadata": {
        "id": "JqqVGTb_BTro"
      },
      "execution_count": null,
      "outputs": []
    },
    {
      "cell_type": "code",
      "source": [
        "#one hot encoding 'am'열에 수행해보기\n",
        "print(pd.get_dummies(X['am']))"
      ],
      "metadata": {
        "id": "MLC5Dj31-KpX"
      },
      "execution_count": null,
      "outputs": []
    },
    {
      "cell_type": "code",
      "source": [
        "#좀더 경제적으로, 하나의 열에 나열해 가독성을높이기\n",
        "print(pd.get_dummies(X['am'], drop_first=True))"
      ],
      "metadata": {
        "id": "iFaTikEm4AWc"
      },
      "execution_count": null,
      "outputs": []
    },
    {
      "cell_type": "code",
      "source": [
        "#라벨인코딩\n",
        "print(X['am'].head())"
      ],
      "metadata": {
        "id": "YOyrc0JRGrvn"
      },
      "execution_count": null,
      "outputs": []
    },
    {
      "cell_type": "code",
      "source": [
        "from sklearn.preprocessing import LabelEncoder"
      ],
      "metadata": {
        "id": "eev0TJWqJjXl"
      },
      "execution_count": null,
      "outputs": []
    },
    {
      "cell_type": "code",
      "source": [
        "encoder = LabelEncoder()"
      ],
      "metadata": {
        "id": "1DHdanDCJjaL"
      },
      "execution_count": null,
      "outputs": []
    },
    {
      "cell_type": "code",
      "source": [
        "print(encoder.fit_transform(X['am'])) #manual 은 1, auto는 0으로 변환됨"
      ],
      "metadata": {
        "id": "HPhv0jdvJyVd"
      },
      "execution_count": null,
      "outputs": []
    },
    {
      "cell_type": "code",
      "source": [
        "#세가지종류의범주형 변수 임의생성->라벨 인코딩 연습\n",
        "fruit = ['apple','banana','grape']"
      ],
      "metadata": {
        "id": "0-nKVGnyJyYN"
      },
      "execution_count": null,
      "outputs": []
    },
    {
      "cell_type": "code",
      "source": [
        "encoder = LabelEncoder()"
      ],
      "metadata": {
        "id": "bypio6A2LMjS"
      },
      "execution_count": null,
      "outputs": []
    },
    {
      "cell_type": "code",
      "source": [
        "#라벨인코더 수행 뒤 새 변수에 저장\n",
        "fruit_new = encoder.fit_transform(fruit)"
      ],
      "metadata": {
        "id": "SFvG7iAfLMnY"
      },
      "execution_count": null,
      "outputs": []
    },
    {
      "cell_type": "code",
      "source": [
        "#결과비교\n",
        "print(fruit, fruit_new)"
      ],
      "metadata": {
        "id": "_wubgLg3Gryb"
      },
      "execution_count": null,
      "outputs": []
    },
    {
      "cell_type": "code",
      "source": [
        "#그밖에도, replace함수로 수동 인코딩 가능"
      ],
      "metadata": {
        "id": "DG5bLl6yMJD3"
      },
      "execution_count": null,
      "outputs": []
    },
    {
      "cell_type": "code",
      "source": [
        "#am_new 라는 열 새로 생성하고, manual은 0, auto는 1 로 변경하기\n",
        "X['am_new'] = X['am'].replace('manual',0).replace('auto',1)"
      ],
      "metadata": {
        "id": "k70GHszBiAM_"
      },
      "execution_count": null,
      "outputs": []
    },
    {
      "cell_type": "code",
      "source": [
        "print(X.head())"
      ],
      "metadata": {
        "id": "vH1-miaKiAPl"
      },
      "execution_count": null,
      "outputs": []
    },
    {
      "cell_type": "code",
      "source": [
        "#이제 am열은 불필요하니 삭제-traceback은 두번눌러서 이미 없다고 뜬거임\n",
        "X = X.drop(columns=['am'])"
      ],
      "metadata": {
        "id": "o66njBtwiAR9"
      },
      "execution_count": null,
      "outputs": []
    },
    {
      "cell_type": "code",
      "source": [
        "print(X.head())"
      ],
      "metadata": {
        "id": "QiyuSKbHMJGT"
      },
      "execution_count": null,
      "outputs": []
    },
    {
      "cell_type": "code",
      "source": [
        "#파생변수 생성하기\n",
        "#wt 열이 3.3보다 작으면 0, 크거나 같으면 1로 파생변수 생성"
      ],
      "metadata": {
        "id": "u4rfa9emt5dg"
      },
      "execution_count": null,
      "outputs": []
    },
    {
      "cell_type": "code",
      "source": [
        "print(X['wt']<3.3)"
      ],
      "metadata": {
        "id": "5QUH_9-ot5gN"
      },
      "execution_count": null,
      "outputs": []
    },
    {
      "cell_type": "code",
      "source": [
        "#condition 변수에 3.3보다 작은지의 여부를 담고, 조검 만족하면 열에 0으로 저장/아니면 1\n",
        "condition = X['wt']<3.3 \n",
        "X.loc[condition, 'wt_class']=0\n",
        "X.loc[~condition, 'wt_class']=1"
      ],
      "metadata": {
        "id": "6mgZhR0ct5kv"
      },
      "execution_count": null,
      "outputs": []
    },
    {
      "cell_type": "code",
      "source": [
        "print(X[['wt','wt_class']])"
      ],
      "metadata": {
        "id": "673j56t10Ecx"
      },
      "execution_count": null,
      "outputs": []
    },
    {
      "cell_type": "code",
      "source": [
        "#이제 wt는 삭제\n",
        "X = X.drop(columns=['wt'])"
      ],
      "metadata": {
        "id": "ChJ2zXlu0EhI"
      },
      "execution_count": null,
      "outputs": []
    },
    {
      "cell_type": "code",
      "source": [
        "print(X.head())"
      ],
      "metadata": {
        "id": "yha_wh5m0Ejo"
      },
      "execution_count": null,
      "outputs": []
    },
    {
      "cell_type": "code",
      "source": [
        "#이번엔 qsec전체열에 4배곱해서 새 열 생성\n",
        "X['qsec_4'] = X['qsec']*4"
      ],
      "metadata": {
        "id": "6JBA8gjit5nS"
      },
      "execution_count": null,
      "outputs": []
    },
    {
      "cell_type": "code",
      "source": [
        "print(X[['qsec','qsec_4']])"
      ],
      "metadata": {
        "id": "fxf0Bq3905dS"
      },
      "execution_count": null,
      "outputs": []
    },
    {
      "cell_type": "code",
      "source": [
        "X =X.drop(columns='qsec')"
      ],
      "metadata": {
        "id": "KuiSQmlW05go"
      },
      "execution_count": null,
      "outputs": []
    },
    {
      "cell_type": "code",
      "source": [
        "print(X.head())"
      ],
      "metadata": {
        "id": "OjaC0NRr05jX"
      },
      "execution_count": null,
      "outputs": []
    },
    {
      "cell_type": "code",
      "source": [
        "#학습데이터/테스트데이터 분리하기\n",
        "from sklearn.model_selection import train_test_split"
      ],
      "metadata": {
        "id": "pkyxd6dv9tKB"
      },
      "execution_count": null,
      "outputs": []
    },
    {
      "cell_type": "code",
      "source": [
        "#X,Y 변수로 학습데이터는 70%, 테스트데이터는 30%로 분리하기\n",
        "x_train, x_test, y_train, y_test = train_test_split(X,Y,test_size=0.3, \n",
        "                                                    random_state=10)"
      ],
      "metadata": {
        "id": "07j1AkUt9vrB"
      },
      "execution_count": null,
      "outputs": []
    },
    {
      "cell_type": "code",
      "source": [
        "#독립변수인 학습데이터의 상위 5개 행 확인\n",
        "print(x_train.head())"
      ],
      "metadata": {
        "id": "GGHfWHAW9xjR"
      },
      "execution_count": null,
      "outputs": []
    },
    {
      "cell_type": "code",
      "source": [
        "#공부하고 평가하는, 모델링."
      ],
      "metadata": {
        "id": "I1NZyr1_-SeT"
      },
      "execution_count": null,
      "outputs": []
    },
    {
      "cell_type": "code",
      "source": [
        "#선형회귀분석 : linear_model모듈에서 LinearRegression 모델 소환\n",
        "from sklearn.linear_model import LinearRegression"
      ],
      "metadata": {
        "id": "U42Uoi48-Shf"
      },
      "execution_count": null,
      "outputs": []
    },
    {
      "cell_type": "code",
      "source": [
        "model = LinearRegression()"
      ],
      "metadata": {
        "id": "2DXyOAh59xl3"
      },
      "execution_count": null,
      "outputs": []
    },
    {
      "cell_type": "code",
      "source": [
        "#생성한 모델에 x_train, y_train을 전달해서 선형회귀 방식으로 공부시킴\n",
        "model.fit(x_train,y_train)"
      ],
      "metadata": {
        "id": "uvOxAzicDmrg"
      },
      "execution_count": null,
      "outputs": []
    },
    {
      "cell_type": "code",
      "source": [
        "#학습 완료된 모델에 x_train 전달해 y_train 값 예측\n",
        "y_train_predicted = model.predict(x_train)"
      ],
      "metadata": {
        "id": "gSb3fis_Dmt_"
      },
      "execution_count": null,
      "outputs": []
    },
    {
      "cell_type": "code",
      "source": [
        "y_test_predicted = model.predict(x_test)"
      ],
      "metadata": {
        "id": "nQsOpdaaECqP"
      },
      "execution_count": null,
      "outputs": []
    },
    {
      "cell_type": "code",
      "source": [
        "#선형회귀 모델로 도출된 y 절편 값 구하기\n",
        "print(model.intercept_)"
      ],
      "metadata": {
        "id": "7fy9-8hkECs_"
      },
      "execution_count": null,
      "outputs": []
    },
    {
      "cell_type": "code",
      "source": [
        "#선형회귀 모델에 포함된 독립변수들의 각 기울기 값 구하기\n",
        "print(model.coef_) #회귀계수 값"
      ],
      "metadata": {
        "id": "OD_T0CSyECwJ"
      },
      "execution_count": null,
      "outputs": []
    },
    {
      "cell_type": "code",
      "source": [
        "#선형회귀 같은 예측모델은 보통 MAE, MSE, RMSE, 결정계수R제곱으로 평가 수행\n",
        "#MAE = 실제값과 예측값 차이를 제곱해서 평균 계산한 값\n",
        "#MSE = 실제값과 예측값 차이를 제곱해 평균 계산한 값\n",
        "#RMSE = MSE의 제곱근\n",
        "#R제곱 = 결정계수는 실제값 분산과 예측값 분산의 비율, 1에 가까울수록 예측 정확도 높음"
      ],
      "metadata": {
        "id": "0kumqiaoHx2i"
      },
      "execution_count": null,
      "outputs": []
    },
    {
      "cell_type": "code",
      "source": [
        "#선형회귀 분석 모델에서 학습데이터에대한 결정계수 구하기\n",
        "print(model.score(x_train,y_train))"
      ],
      "metadata": {
        "id": "7mL4mZQxHx5I"
      },
      "execution_count": null,
      "outputs": []
    },
    {
      "cell_type": "code",
      "source": [
        "#선형회귀 분석 모델에서 테스트 데이터에 대한 결정계수 구하기\n",
        "print(model.score(x_test, y_test))"
      ],
      "metadata": {
        "id": "ZQ8Qg5PZHx7m"
      },
      "execution_count": null,
      "outputs": []
    },
    {
      "cell_type": "code",
      "source": [
        "#결정계수 계산하는 r2 score 함수 가져오기\n",
        "from sklearn.metrics import r2_score\n",
        "\n",
        "#MAE 계산하는 mean_absolute_error함수\n",
        "from sklearn.metrics import mean_absolute_error\n",
        "\n",
        "#MSE 계산하는 mean_squared_error함수\n",
        "from sklearn.metrics import mean_squared_error\n",
        "\n",
        "#제곱근 계산을 위해 numpy 라이브러리 가져오기\n",
        "import numpy as np"
      ],
      "metadata": {
        "id": "X7HMTjFm9xo2"
      },
      "execution_count": null,
      "outputs": []
    },
    {
      "cell_type": "code",
      "source": [
        "#학습데이터의 결정계수 구하기\n",
        "print(r2_score(y_train, y_train_predicted))"
      ],
      "metadata": {
        "id": "x9YuKdZJQS73"
      },
      "execution_count": null,
      "outputs": []
    },
    {
      "cell_type": "code",
      "source": [
        "#테스트 데이터의 결정계수 구하기\n",
        "print(r2_score(y_test,y_test_predicted))"
      ],
      "metadata": {
        "id": "kB47kcIgQTAR"
      },
      "execution_count": null,
      "outputs": []
    },
    {
      "cell_type": "code",
      "source": [
        "#테스트데이터의 MSE 지표 구하기\n",
        "print(mean_squared_error(y_test, y_test_predicted))"
      ],
      "metadata": {
        "id": "FyOGvn4cQTDe"
      },
      "execution_count": null,
      "outputs": []
    },
    {
      "cell_type": "code",
      "source": [
        "#테스트 데이터의 RMSE 지표 구하기\n",
        "print(np.sqrt(mean_squared_error(y_test, y_test_predicted)))"
      ],
      "metadata": {
        "id": "qyNC_0voR34P"
      },
      "execution_count": null,
      "outputs": []
    },
    {
      "cell_type": "code",
      "source": [
        "#테스트 데이터의 MAE 지표 구하기\n",
        "print(mean_absolute_error(y_test,y_test_predicted))"
      ],
      "metadata": {
        "id": "UppEc56aR37G"
      },
      "execution_count": null,
      "outputs": []
    },
    {
      "cell_type": "code",
      "source": [
        "#이번에는 랜덤포레스트 회귀(예측)"
      ],
      "metadata": {
        "id": "tddHG47bR391"
      },
      "execution_count": null,
      "outputs": []
    },
    {
      "cell_type": "code",
      "source": [
        "#랜덤포레스트 회귀 : 무작위 다수 트리 만들어 투표로 값 결정\n",
        "#ensemble모듈에서 RandomForestRegressor모델 가져오기\n",
        "from sklearn.ensemble import RandomForestRegressor"
      ],
      "metadata": {
        "id": "SEj0bIU3SN-P"
      },
      "execution_count": null,
      "outputs": []
    },
    {
      "cell_type": "code",
      "source": [
        "#랜덤 포레스트 회귀 분석 수행할 모델 생성\n",
        "model = RandomForestRegressor(random_state=10)"
      ],
      "metadata": {
        "id": "JG4k00CfSOBG"
      },
      "execution_count": null,
      "outputs": []
    },
    {
      "cell_type": "code",
      "source": [
        "#생성한 모델에 x_train, y_train을 전달해서 랜덤 포레스트 회귀 분석 수행\n",
        "model.fit(x_train,y_train)"
      ],
      "metadata": {
        "id": "0XB-0omcSOD9"
      },
      "execution_count": null,
      "outputs": []
    },
    {
      "cell_type": "code",
      "source": [
        "#학습이 완료된 모델에 x_train 전달해 y_train 값 예측\n",
        "y_train_predicted = model.predict(x_train)"
      ],
      "metadata": {
        "id": "V-0Nn3bQVHLS"
      },
      "execution_count": null,
      "outputs": []
    },
    {
      "cell_type": "code",
      "source": [
        "#학습 완료된 모델에 x_test전달해 y_test값 예측\n",
        "y_test_predicted = model.predict(x_test)"
      ],
      "metadata": {
        "id": "YTzT6Rn4VHN2"
      },
      "execution_count": null,
      "outputs": []
    },
    {
      "cell_type": "code",
      "source": [
        "#이제 metrics 모듈로 결정계수, MSE, MAE지표 계산하기\n",
        "from sklearn.metrics import r2_score, mean_squared_error, mean_absolute_error"
      ],
      "metadata": {
        "id": "rzTpiniWVHTV"
      },
      "execution_count": null,
      "outputs": []
    },
    {
      "cell_type": "code",
      "source": [
        "#학습데이터의 결정계수 구하기\n",
        "print(r2_score(y_train, y_train_predicted))"
      ],
      "metadata": {
        "id": "KAAfUsCDWmeu"
      },
      "execution_count": null,
      "outputs": []
    },
    {
      "cell_type": "code",
      "source": [
        "#테스트 데이터의결정계수 구하기\n",
        "print(r2_score(y_test, y_test_predicted))"
      ],
      "metadata": {
        "id": "ZQbVq39gWmhV"
      },
      "execution_count": null,
      "outputs": []
    },
    {
      "cell_type": "code",
      "source": [
        "#테스트 데이터의 MSE 지표 구하기\n",
        "print(mean_squared_error(y_test, y_test_predicted))"
      ],
      "metadata": {
        "id": "7S4bPwd3WmjD"
      },
      "execution_count": null,
      "outputs": []
    },
    {
      "cell_type": "code",
      "source": [
        "#테스트 데이터의 MAE 지표 구하기\n",
        "print(mean_absolute_error(y_test, y_test_predicted))"
      ],
      "metadata": {
        "id": "ovH1YfFKXqFO"
      },
      "execution_count": null,
      "outputs": []
    },
    {
      "cell_type": "code",
      "source": [
        "#MAE 지표의 품질을 높이기위해 랜덤 포레스트 회귀 분석 수행 과정 중 추가적인 정보 전달\n",
        "#하이퍼 파라미터- 1. 생성할 트리의 개수인 n_estimators 2.트리 분할 기준 criterion\n",
        "#트리 생성 개수를 기본값인 100에서 1000개로 증가시키고, 분할 기준은 기본값 MSE 지표에서\n",
        "#MAE 지표로 변경할 것을 요구하기"
      ],
      "metadata": {
        "id": "4_2eQf54XqJE"
      },
      "execution_count": null,
      "outputs": []
    },
    {
      "cell_type": "code",
      "source": [
        "model = RandomForestRegressor(n_estimators=1000, criterion='mae',random_state=10)"
      ],
      "metadata": {
        "id": "fpFPzRJFau5p"
      },
      "execution_count": null,
      "outputs": []
    },
    {
      "cell_type": "code",
      "source": [
        "#기본적인 정보가 담긴 모델에 학습데이터 전달해 공부시키기\n",
        "model.fit(x_train,y_train)"
      ],
      "metadata": {
        "id": "FKo8ICrEau8E"
      },
      "execution_count": null,
      "outputs": []
    },
    {
      "cell_type": "code",
      "source": [
        "#학습 완료된 모델에 x_train전달해 y_train 예측하기\n",
        "y_train_predicted = model.predict(x_train)"
      ],
      "metadata": {
        "id": "e7djPZ-Bau-M"
      },
      "execution_count": null,
      "outputs": []
    },
    {
      "cell_type": "code",
      "source": [
        "#학습 완료된 모델에 x_test 전달해 y_test 예측하기\n",
        "y_test_predicted = model.predict(x_test)"
      ],
      "metadata": {
        "id": "GqPiKBRLXqLc"
      },
      "execution_count": null,
      "outputs": []
    },
    {
      "cell_type": "code",
      "source": [
        "#지금까지 n_estimators와 criterion 하이퍼파라미터를 추가해 랜덤포레스트 회귀분석함\n",
        "#MAE평가지표가 이전 대비 좋아졌는지 확인하기\n",
        "\n",
        "#학습 데이터 결정계수 구하기\n",
        "print(r2_score(y_train,y_train_predicted))"
      ],
      "metadata": {
        "id": "WaKWnjO6bywl"
      },
      "execution_count": null,
      "outputs": []
    },
    {
      "cell_type": "code",
      "source": [
        "#테스트 데이터 결정계수 구하기\n",
        "print(r2_score(y_test,y_test_predicted))"
      ],
      "metadata": {
        "id": "OM67-scHbyzE"
      },
      "execution_count": null,
      "outputs": []
    },
    {
      "cell_type": "code",
      "source": [
        "#테스트 데이터 MSE 지표 구하기\n",
        "print(mean_squared_error(y_test,y_test_predicted))"
      ],
      "metadata": {
        "id": "Ty7W4xlXby1E"
      },
      "execution_count": null,
      "outputs": []
    },
    {
      "cell_type": "code",
      "source": [
        "#테스트 데이터 MAE 지표 구하기\n",
        "print(mean_absolute_error(y_test,y_test_predicted))"
      ],
      "metadata": {
        "id": "_HW7wNb-c32k"
      },
      "execution_count": null,
      "outputs": []
    },
    {
      "cell_type": "code",
      "source": [
        "#MAE 지표는 0에 가까울수록 좋은 성능이므로 전(1.8)보다 나아짐(1.7) "
      ],
      "metadata": {
        "id": "2m6dIPYQc35T"
      },
      "execution_count": null,
      "outputs": []
    }
  ]
}