{
  "nbformat": 4,
  "nbformat_minor": 0,
  "metadata": {
    "colab": {
      "provenance": [],
      "collapsed_sections": [],
      "authorship_tag": "ABX9TyMKLCI2dfwPrNKi94X8GleO",
      "include_colab_link": true
    },
    "kernelspec": {
      "name": "python3",
      "display_name": "Python 3"
    },
    "language_info": {
      "name": "python"
    }
  },
  "cells": [
    {
      "cell_type": "markdown",
      "metadata": {
        "id": "view-in-github",
        "colab_type": "text"
      },
      "source": [
        "<a href=\"https://colab.research.google.com/github/sanha7/honey_ranian/blob/main/%EB%B9%85%EB%B6%84%EA%B8%B01%EC%9C%A0%ED%98%95(1).ipynb\" target=\"_parent\"><img src=\"https://colab.research.google.com/assets/colab-badge.svg\" alt=\"Open In Colab\"/></a>"
      ]
    },
    {
      "cell_type": "code",
      "source": [
        "#문제 예시 1)\n",
        "#boston 데이터셋의 MEDV 칼럼에 대해 가장 작은값부터 차례로 10행 출력해라\n",
        "import pandas as pd\n",
        "data= pd.read_csv('boston.csv')\n",
        "print(data.sort_values(by='MEDV', ascending=True)['MEDV'].head(10))"
      ],
      "metadata": {
        "colab": {
          "base_uri": "https://localhost:8080/"
        },
        "id": "eGZuC7IM38s1",
        "outputId": "bc60b7b7-6408-4f3d-e172-e04a3394285f"
      },
      "execution_count": null,
      "outputs": [
        {
          "output_type": "stream",
          "name": "stdout",
          "text": [
            "398    5.0\n",
            "405    5.0\n",
            "400    5.6\n",
            "399    6.3\n",
            "414    7.0\n",
            "489    7.0\n",
            "401    7.2\n",
            "385    7.2\n",
            "415    7.2\n",
            "387    7.4\n",
            "Name: MEDV, dtype: float64\n"
          ]
        }
      ]
    },
    {
      "cell_type": "code",
      "source": [
        "#문제 예시 2)\n",
        "#boston의 RM 칼럼에 대한 결측치를 평균값대치하고 산출된 표준편차 값과,\n",
        "#결측치를 삭제하고 산출된 표준편차 값이 차이를 구하기\n",
        "#(최종 출력하는 차이는양수임)\n",
        "import pandas as pd\n",
        "data =  pd.read_csv('boston.csv')\n",
        "#print(data.isnull())-RM열에 결측치 확인\n",
        "data_mean = data['RM'].copy() #rm 을 평균값 대치위해 카피해놈\n",
        "rm_mean = data_mean.mean() #평균값 변수 생성\n",
        "data_mean.fillna(rm_mean, inplace=True) #rm의 평균값을 대치하고 고정.(data_mean에 저장)\n",
        "data_del = data['RM'].copy() #결측값 삭제를 위한카피\n",
        "data_del.dropna(inplace=True) #결측값 삭제dropna 때리고 고정\n",
        "print(abs(data_mean.std()-data_del.std()))\n"
      ],
      "metadata": {
        "colab": {
          "base_uri": "https://localhost:8080/"
        },
        "id": "Q85aaZHt_Xu9",
        "outputId": "8becfc96-b2f0-4dc7-ad07-ca7581b0b842"
      },
      "execution_count": null,
      "outputs": [
        {
          "output_type": "stream",
          "name": "stdout",
          "text": [
            "0.010595546094104513\n"
          ]
        }
      ]
    },
    {
      "cell_type": "code",
      "source": [
        "#문제 예시 3)\n",
        "#boston 데이터셋의 ZN 칼럼 대상으로 ZN의 평균값에서 표준편차의1.5배 크거나 작은\n",
        "#ZN값의합계를 구하시오\n",
        "import pandas as pd\n",
        "data= pd.reaad_csv('boston.csv')\n",
        "zn_mean = data['ZN'].mean()\n",
        "zn_std = data['ZN'].std()\n",
        "zn_max = zn_mean + (1.5* zn_std)\n",
        "zn_min = zn_mean - (1.5* zn_std)\n",
        "zn_max2 = data[data['ZN']>zn_max]['ZN']\n",
        "zn_min2 = data[data['ZN']<zn_min]['ZN']\n",
        "print(zn_max2.sum()+zn_min2.sum())"
      ],
      "metadata": {
        "colab": {
          "base_uri": "https://localhost:8080/"
        },
        "id": "-Yzo48QPTPUS",
        "outputId": "081e58f8-4047-4401-80dc-49d8ca08c5d3"
      },
      "execution_count": null,
      "outputs": [
        {
          "output_type": "stream",
          "name": "stdout",
          "text": [
            "3462.5\n"
          ]
        }
      ]
    },
    {
      "cell_type": "code",
      "source": [
        "#문제 예시 4)\n",
        "#boston 데이터셋에서 CHAS 칼럼과 RAD 칼럼 제외해 칼럼별 IQR값 구하시오\n",
        "#단, 출력구조는 2열이고 1열은 보스턴 데이터셋의 칼럼 이름이 표시돼야 함\n",
        "import pandas as pd\n",
        "data = pd.read_csv('boston.csv')\n",
        "data_col12 = data.drop(columns =['CHAS','RAD'])\n",
        "data_col12_desc = data_col12.describe()\n",
        "data_col12_desc_T= data_col12_desc.iloc[[4,6]].T \n",
        "#4행, 6행 데이터 부르기, .T는 transpose함수=행열 뒤바꿔 세로축으로 변경시켜줌.\n",
        "print(data_col12_desc_T['75%']-data_col12_desc_T['25%'])"
      ],
      "metadata": {
        "colab": {
          "base_uri": "https://localhost:8080/"
        },
        "id": "5l1swJIGWd7s",
        "outputId": "049ada7f-5f7c-477b-b1f0-d18606cd3093"
      },
      "execution_count": null,
      "outputs": [
        {
          "output_type": "stream",
          "name": "stdout",
          "text": [
            "CRIM         3.595038\n",
            "ZN          12.500000\n",
            "INDUS       12.910000\n",
            "NOX          0.175000\n",
            "RM           0.736000\n",
            "AGE         49.050000\n",
            "DIS          3.088250\n",
            "TAX        387.000000\n",
            "PTRATIO      2.800000\n",
            "B           20.847500\n",
            "LSTAT       10.005000\n",
            "MEDV         7.975000\n",
            "dtype: float64\n"
          ]
        }
      ]
    },
    {
      "cell_type": "code",
      "source": [
        "#문제예시 5)\n",
        "#boston 데이터셋의 MEDV 컬럼 기준으로 30번째 큰값을 1~29번째 큰값에 적용한다\n",
        "#그리고 MEDV 칼럼의 평균값, 중위값, 최솟값, 최댓값 순으로 한줄에 출력한다\n",
        "import pandas as pd\n",
        "data = pd.read_csv('boston.csv')\n",
        "data_new = data.sort_values(by='MEDV', ascending=False)['MEDV'] #순위니까 내림차순\n",
        "# 이 줄은 data_new = data['MEDV'].sort_values(ascending=False)도 가능\n",
        "data_new.iloc[0:29] = 41.7\n",
        "print(data_new.mean(), data_new.median(), data_new.min(), data_new.max())"
      ],
      "metadata": {
        "colab": {
          "base_uri": "https://localhost:8080/"
        },
        "id": "fI__r97hfnX_",
        "outputId": "503dd488-3ee9-4f23-c93d-67efc598cab0"
      },
      "execution_count": null,
      "outputs": [
        {
          "output_type": "stream",
          "name": "stdout",
          "text": [
            "22.1796442687747 21.2 5.0 41.7\n"
          ]
        }
      ]
    },
    {
      "cell_type": "code",
      "source": [
        "#문제 예시 1)\n",
        "#boston 데이터셋의 MEDV 칼럼에 대해 가장 작은값부터 차례로 10행 출력해라"
      ],
      "metadata": {
        "id": "E5Kg8XvLTKpz"
      },
      "execution_count": null,
      "outputs": []
    },
    {
      "cell_type": "code",
      "source": [
        "#문제 예시 2)\n",
        "#boston의 RM 칼럼에 대한 결측치를 평균값대치하고 산출된 표준편차 값과,\n",
        "#결측치를 삭제하고 산출된 표준편차 값이 차이를 구하기\n",
        "#(최종 출력하는 차이는양수임)"
      ],
      "metadata": {
        "id": "GUdiTQx_TKsh"
      },
      "execution_count": null,
      "outputs": []
    },
    {
      "cell_type": "code",
      "source": [
        "#문제 예시 3)\n",
        "#boston 데이터셋의 ZN 칼럼 대상으로 ZN의 평균값에서 표준편차의1.5배 크거나 작은\n",
        "#ZN값의합계를 구하시오"
      ],
      "metadata": {
        "colab": {
          "base_uri": "https://localhost:8080/"
        },
        "id": "gy087QkZaJ2v",
        "outputId": "c684820c-98a8-477e-8bcb-59dda1a328d4"
      },
      "execution_count": null,
      "outputs": [
        {
          "output_type": "stream",
          "name": "stdout",
          "text": [
            "3462.5\n"
          ]
        }
      ]
    },
    {
      "cell_type": "code",
      "source": [
        "#문제 예시 4)\n",
        "#boston 데이터셋에서 CHAS 칼럼과 RAD 칼럼 제외해 칼럼별 IQR값 구하시오\n",
        "#단, 출력구조는 2열이고 1열은 보스턴 데이터셋의 칼럼 이름이 표시돼야 함"
      ],
      "metadata": {
        "colab": {
          "base_uri": "https://localhost:8080/"
        },
        "id": "U-OUm9BXaMqM",
        "outputId": "a485c448-1e17-4805-efac-25604f76192b"
      },
      "execution_count": null,
      "outputs": [
        {
          "output_type": "stream",
          "name": "stdout",
          "text": [
            "CRIM         3.595038\n",
            "ZN          12.500000\n",
            "INDUS       12.910000\n",
            "NOX          0.175000\n",
            "RM           0.736000\n",
            "AGE         49.050000\n",
            "DIS          3.088250\n",
            "TAX        387.000000\n",
            "PTRATIO      2.800000\n",
            "B           20.847500\n",
            "LSTAT       10.005000\n",
            "MEDV         7.975000\n",
            "dtype: float64\n"
          ]
        }
      ]
    },
    {
      "cell_type": "code",
      "source": [
        "#문제예시 5)\n",
        "#boston 데이터셋의 MEDV 컬럼 기준으로 30번째 큰값을 1~29번째 큰값에 적용한다\n",
        "#그리고 MEDV 칼럼의 평균값, 중위값, 최솟값, 최댓값 순으로 한줄에 출력한다"
      ],
      "metadata": {
        "colab": {
          "base_uri": "https://localhost:8080/"
        },
        "id": "Kh_DPd1ofmOu",
        "outputId": "ffdafcbd-56bc-40cc-dc25-148828bae9f8"
      },
      "execution_count": null,
      "outputs": [
        {
          "output_type": "stream",
          "name": "stdout",
          "text": [
            "22.1796442687747 21.2 5.0 41.7\n"
          ]
        }
      ]
    }
  ]
}